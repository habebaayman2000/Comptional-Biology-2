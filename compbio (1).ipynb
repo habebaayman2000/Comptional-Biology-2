{
 "cells": [
  {
   "cell_type": "code",
   "execution_count": 1,
   "id": "9f374c99",
   "metadata": {},
   "outputs": [],
   "source": [
    "import cobra"
   ]
  },
  {
   "cell_type": "code",
   "execution_count": 2,
   "id": "9b8e9e9a",
   "metadata": {},
   "outputs": [],
   "source": [
    "from cobra import*"
   ]
  },
  {
   "cell_type": "code",
   "execution_count": 3,
   "id": "19edc797",
   "metadata": {},
   "outputs": [],
   "source": [
    "Pathways=Model(\"Pathways\")"
   ]
  },
  {
   "cell_type": "markdown",
   "id": "7908b309",
   "metadata": {},
   "source": [
    "# Glycolysis pathway"
   ]
  },
  {
   "cell_type": "markdown",
   "id": "e0f18625",
   "metadata": {},
   "source": [
    "## ( GLUin Glucose import )→ Gluc"
   ]
  },
  {
   "cell_type": "code",
   "execution_count": 4,
   "id": "4ce3a939",
   "metadata": {},
   "outputs": [],
   "source": [
    "GLUin=Reaction(\"GLUin\")\n",
    "GLUin.name='glucose'\n",
    "GLUin.lower_bound=1\n",
    "GLUin.upper_bound=1"
   ]
  },
  {
   "cell_type": "code",
   "execution_count": 5,
   "id": "ccae12bf",
   "metadata": {},
   "outputs": [],
   "source": [
    "GLUc=Metabolite( 'GLUc',formula='C6H12O6',name='glucose', compartment='c')"
   ]
  },
  {
   "cell_type": "code",
   "execution_count": 6,
   "id": "613d42fa",
   "metadata": {},
   "outputs": [],
   "source": [
    "GLUin.add_metabolites({GLUc:1})"
   ]
  },
  {
   "cell_type": "markdown",
   "id": "2b91ac80",
   "metadata": {},
   "source": [
    "## ( HK Hexokinase ) Gluc + ATP → G6P + ADP + H+"
   ]
  },
  {
   "cell_type": "code",
   "execution_count": 7,
   "id": "c7319ebc",
   "metadata": {},
   "outputs": [],
   "source": [
    "HK=Reaction(\"HK\")\n",
    "HK.name='Hexokines'\n",
    "HK.lower_bound=0\n",
    "HK.upper_bound=1000"
   ]
  },
  {
   "cell_type": "code",
   "execution_count": 8,
   "id": "256f7fbe",
   "metadata": {},
   "outputs": [],
   "source": [
    "ATP=Metabolite('ATP',formula='C10H16N5O13P3', name='adenosine triphosphate', compartment='c')\n",
    "\n",
    "ADP=Metabolite('ADP',formula='C10H16N5O13P2',name='Adenosine diphosphate',compartment='c')\n",
    "\n",
    "G6P=Metabolite('G6P',formula='C6H13O9',name='Glucose 6 phosphate',compartment='c')\n",
    "\n",
    "H=Metabolite('H',formula='H',name='Proton', compartment='c')\n"
   ]
  },
  {
   "cell_type": "code",
   "execution_count": 9,
   "id": "64c530d9",
   "metadata": {},
   "outputs": [],
   "source": [
    "HK.add_metabolites({GLUc:-1,ATP:-1,G6P:1,ADP:1,H:1})"
   ]
  },
  {
   "cell_type": "markdown",
   "id": "2f4490e3",
   "metadata": {},
   "source": [
    "## (PGI Glucose 6-phosphate isomerase) G6P ↔ F6P"
   ]
  },
  {
   "cell_type": "code",
   "execution_count": 10,
   "id": "ec19b339",
   "metadata": {},
   "outputs": [],
   "source": [
    "PGI=Reaction(\"PGI\")\n",
    "PGI.name='PGI'\n",
    "PGI.lower_bound=-1000\n",
    "PGI.upper_bound=1000"
   ]
  },
  {
   "cell_type": "code",
   "execution_count": 11,
   "id": "515b4c17",
   "metadata": {},
   "outputs": [],
   "source": [
    "F6P=Metabolite('F6P',formula='C6H13O9P' ,name='Fructose 6-Phosphate ', compartment='c')"
   ]
  },
  {
   "cell_type": "code",
   "execution_count": 12,
   "id": "4a6d559f",
   "metadata": {},
   "outputs": [],
   "source": [
    "PGI.add_metabolites({G6P:-1,F6P:1})"
   ]
  },
  {
   "cell_type": "markdown",
   "id": "ce6fcf6c",
   "metadata": {},
   "source": [
    "## ( PFK Phosphofructokinase ) F6P + ATP → FDP + ADP + H+"
   ]
  },
  {
   "cell_type": "code",
   "execution_count": 13,
   "id": "1fdd6dff",
   "metadata": {},
   "outputs": [],
   "source": [
    "PFK=Reaction(\"PFK\")\n",
    "PFK.name='PFK'\n",
    "PFK.lower_bound=0\n",
    "PFK.upper_bound=1000"
   ]
  },
  {
   "cell_type": "code",
   "execution_count": 14,
   "id": "06a7b176",
   "metadata": {},
   "outputs": [],
   "source": [
    "FDP=Metabolite('FDP',formula='C6H14O12P2', name='Fructose 1,6-diphosphate',compartment='c')"
   ]
  },
  {
   "cell_type": "code",
   "execution_count": 15,
   "id": "0bac8a05",
   "metadata": {},
   "outputs": [],
   "source": [
    "PFK.add_metabolites({F6P:-1,ATP:-1,FDP:1,ADP:1,H:1})"
   ]
  },
  {
   "cell_type": "markdown",
   "id": "2098d552",
   "metadata": {},
   "source": [
    "## ( TPI Triose-phosphate isomerase ) DHAP ↔ GAP"
   ]
  },
  {
   "cell_type": "code",
   "execution_count": 16,
   "id": "ecbc0b98",
   "metadata": {},
   "outputs": [],
   "source": [
    "TPI=Reaction(\"TPI\")\n",
    "TPI.name='TPI'\n",
    "TPI.lower_bound=-1000\n",
    "TPI.upper_bound=1000"
   ]
  },
  {
   "cell_type": "code",
   "execution_count": 17,
   "id": "fd9bebc5",
   "metadata": {},
   "outputs": [],
   "source": [
    "GAP=Metabolite('GAP', formula='C3H7O6P', name='Glyceraldehyde 3-phosphate', compartment='c')\n",
    "\n",
    "DHAP=Metabolite('DHAP',formula='C3H7O6P',name='Dihydroxyacetone phosphate',compartment='c')"
   ]
  },
  {
   "cell_type": "code",
   "execution_count": 18,
   "id": "f028b443",
   "metadata": {},
   "outputs": [],
   "source": [
    "TPI.add_metabolites({DHAP:-1,GAP:1})"
   ]
  },
  {
   "cell_type": "markdown",
   "id": "c16039a0",
   "metadata": {},
   "source": [
    "## ( ALD Fructose 1,6-diphosphate aldolase ) FDP ↔ DHAP + GAP"
   ]
  },
  {
   "cell_type": "code",
   "execution_count": 19,
   "id": "a3744831",
   "metadata": {},
   "outputs": [],
   "source": [
    "ALD=Reaction(\"ALD\")\n",
    "ALD.name='ALD'\n",
    "ALD.lower_bound=-1000\n",
    "ALD.upper_bound=1000"
   ]
  },
  {
   "cell_type": "code",
   "execution_count": 20,
   "id": "660f4eea",
   "metadata": {},
   "outputs": [],
   "source": [
    "ALD.add_metabolites({FDP:-1,DHAP:1,GAP:1})"
   ]
  },
  {
   "cell_type": "markdown",
   "id": "90991473",
   "metadata": {},
   "source": [
    "## ( GAPDH Glyceraldehyde 3-phosphate dehydrogenase )\n",
    "## GAP + NAD + Pi ↔ DPG1,3 + NADH + H+"
   ]
  },
  {
   "cell_type": "code",
   "execution_count": 21,
   "id": "d2bf88cd",
   "metadata": {},
   "outputs": [],
   "source": [
    "GAPDH=Reaction(\"GAPDH\")\n",
    "GAPDH.name='GAPDH'\n",
    "GAPDH.lower_bound=-1000\n",
    "GAPDH.upper_bound=1000"
   ]
  },
  {
   "cell_type": "code",
   "execution_count": 22,
   "id": "14b4a609",
   "metadata": {},
   "outputs": [],
   "source": [
    "NAD=Metabolite( 'NAD', formula='C21H27N7O14P2', name='Nicotinamide adenine dinucleotide (oxidized)', compartment='c')\n",
    "PI=Metabolite('PI',formula='PO₄³⁻',name='Inorganic phosphate',compartment='c')\n",
    "NADH=Metabolite('NADH',formula='C21H27N7O14P2 ',name='Nicotinamide adenine dinucleotide (reduced)',compartment='c')\n",
    "DPG13=Metabolite('DPG1,3',formula='C3H6O10P2-2',name='1,3-Diphosphoglycerate',compartment='c')"
   ]
  },
  {
   "cell_type": "code",
   "execution_count": 23,
   "id": "bf7192f4",
   "metadata": {},
   "outputs": [],
   "source": [
    "GAPDH.add_metabolites({GAP:-1,NAD:-1,PI:-1,DPG13:1,NADH:1,H:1})"
   ]
  },
  {
   "cell_type": "markdown",
   "id": "6dbd1eb6",
   "metadata": {},
   "source": [
    "## ( PGK Phosphoglycerate kinase ) DPG1,3 + ADP ↔ PG3 + ATP"
   ]
  },
  {
   "cell_type": "code",
   "execution_count": 24,
   "id": "d9c2f7f3",
   "metadata": {},
   "outputs": [],
   "source": [
    "PGK=Reaction(\"PGK\")\n",
    "PGK.name='PGK'\n",
    "PGK.lower_bound=-1000\n",
    "PGK.upper_bound=1000"
   ]
  },
  {
   "cell_type": "code",
   "execution_count": 25,
   "id": "cf6c1983",
   "metadata": {},
   "outputs": [],
   "source": [
    "PG3=Metabolite( 'PG3', formula='C3H7O7P',name='3-Phosphoglycerate',compartment='c')"
   ]
  },
  {
   "cell_type": "code",
   "execution_count": 26,
   "id": "04bc91b4",
   "metadata": {},
   "outputs": [],
   "source": [
    "PGK.add_metabolites({DPG13:-1,ADP:-1,PG3:1,ATP:1})"
   ]
  },
  {
   "cell_type": "markdown",
   "id": "1884d49b",
   "metadata": {},
   "source": [
    "## ( PGLM Phosphoglycerate mutase ) PG3 ↔ PG2"
   ]
  },
  {
   "cell_type": "code",
   "execution_count": 27,
   "id": "d0372a36",
   "metadata": {},
   "outputs": [],
   "source": [
    "PGLM=Reaction(\"PGLM\")\n",
    "PGLM.name='PGLM'\n",
    "PGLM.lower_bound=-1000\n",
    "PGLM.upper_bound=1000"
   ]
  },
  {
   "cell_type": "code",
   "execution_count": 28,
   "id": "24617c11",
   "metadata": {},
   "outputs": [],
   "source": [
    "PG2=Metabolite('PG2', formula='C3H7O7P', name='2-Phosphoglycerate',compartment='c')"
   ]
  },
  {
   "cell_type": "code",
   "execution_count": 29,
   "id": "6b26d4b9",
   "metadata": {},
   "outputs": [],
   "source": [
    "PGLM.add_metabolites({PG3:-1,PG2:1})"
   ]
  },
  {
   "cell_type": "markdown",
   "id": "14e138d7",
   "metadata": {},
   "source": [
    "## ( ENO Enolase ) PG2 ↔ PEP + H2O"
   ]
  },
  {
   "cell_type": "code",
   "execution_count": 30,
   "id": "cb9e8f24",
   "metadata": {},
   "outputs": [],
   "source": [
    "ENO=Reaction(\"ENO\")\n",
    "ENO.name='ENO'\n",
    "ENO.lower_bound=-1000\n",
    "ENO.upper_bound=1000"
   ]
  },
  {
   "cell_type": "code",
   "execution_count": 31,
   "id": "c00343b2",
   "metadata": {},
   "outputs": [],
   "source": [
    "PEP=Metabolite('PEP', formula='C3H5O6P ',name='Phosphoenolpyruvate',compartment='c')\n",
    "H2O=Metabolite('H2O', formula='H2O',name='Water', compartment='c')"
   ]
  },
  {
   "cell_type": "code",
   "execution_count": 32,
   "id": "ca496297",
   "metadata": {},
   "outputs": [],
   "source": [
    "ENO.add_metabolites({PG2:-1,PEP:1,H2O:1})"
   ]
  },
  {
   "cell_type": "markdown",
   "id": "6dc6d85d",
   "metadata": {},
   "source": [
    "## ( PK Pyruvate kinase ) PEP + ADP + H+ → PYR + ATP"
   ]
  },
  {
   "cell_type": "code",
   "execution_count": 33,
   "id": "2fd5f5b5",
   "metadata": {},
   "outputs": [],
   "source": [
    "PK=Reaction(\"PK\")\n",
    "PK.name='PK'\n",
    "PK.lower_bound=0\n",
    "PK.upper_bound=1000"
   ]
  },
  {
   "cell_type": "code",
   "execution_count": 34,
   "id": "e8979e5d",
   "metadata": {},
   "outputs": [],
   "source": [
    "PYR=Metabolite( 'PYR', formula='C3H4O3 ', name='Pyruvate', compartment='c')"
   ]
  },
  {
   "cell_type": "code",
   "execution_count": 35,
   "id": "74224f48",
   "metadata": {},
   "outputs": [],
   "source": [
    "PK.add_metabolites({PEP:-1,ADP:-1,H:-1,PYR:1,ATP:1})"
   ]
  },
  {
   "cell_type": "markdown",
   "id": "21451aa0",
   "metadata": {},
   "source": [
    "## ( LDH Lactate dehydrogenase ) PYR + NADH + H+ ↔ LAC + NAD"
   ]
  },
  {
   "cell_type": "code",
   "execution_count": 36,
   "id": "37e192c1",
   "metadata": {},
   "outputs": [],
   "source": [
    "LDH=Reaction(\"LDH\")\n",
    "LDH.name='LDH'\n",
    "LDH.lower_bound=-1000\n",
    "LDH.upper_bound=1000"
   ]
  },
  {
   "cell_type": "code",
   "execution_count": 37,
   "id": "594e9a01",
   "metadata": {},
   "outputs": [],
   "source": [
    "LAC=Metabolite('LAC',formula='C3H6O3 ', name='Lactate', compartment='c')"
   ]
  },
  {
   "cell_type": "code",
   "execution_count": 38,
   "id": "54173def",
   "metadata": {},
   "outputs": [],
   "source": [
    "LDH.add_metabolites({PYR:-1,NADH:-1,H:-1,LAC:1,NAD:1})"
   ]
  },
  {
   "cell_type": "markdown",
   "id": "42a95973",
   "metadata": {},
   "source": [
    "## ( AMPin AMP import )→ AMP"
   ]
  },
  {
   "cell_type": "code",
   "execution_count": 39,
   "id": "ff38f656",
   "metadata": {},
   "outputs": [],
   "source": [
    "AMPin=Reaction(\"AMPin\")\n",
    "AMPin.name='AMPin'\n",
    "AMPin.lower_bound=1\n",
    "AMPin.upper_bound=1"
   ]
  },
  {
   "cell_type": "code",
   "execution_count": 40,
   "id": "59f17487",
   "metadata": {},
   "outputs": [],
   "source": [
    "AMP=Metabolite('AMP',formula='C10H14N5O7P',name='Adenosine mono-phosphate', compartment='c')"
   ]
  },
  {
   "cell_type": "code",
   "execution_count": 41,
   "id": "c7cc24e0",
   "metadata": {},
   "outputs": [],
   "source": [
    "AMPin.add_metabolites({AMP:1})"
   ]
  },
  {
   "cell_type": "markdown",
   "id": "05c7308a",
   "metadata": {},
   "source": [
    "## ( AMP AMP export ) AMP →"
   ]
  },
  {
   "cell_type": "code",
   "execution_count": 42,
   "id": "9faff96f",
   "metadata": {},
   "outputs": [],
   "source": [
    "AMPout=Reaction(\"AMPout\")\n",
    "AMPout.name='AMPout'\n",
    "AMPout.lower_bound=0\n",
    "AMPout.upper_bound=1000"
   ]
  },
  {
   "cell_type": "code",
   "execution_count": 43,
   "id": "7dde4981",
   "metadata": {},
   "outputs": [],
   "source": [
    "AMPout.add_metabolites({AMP:-1})"
   ]
  },
  {
   "cell_type": "markdown",
   "id": "a3ba63b7",
   "metadata": {},
   "source": [
    "## ( APK Adenylate kinase ) 2ADP ↔ AMP + ATP"
   ]
  },
  {
   "cell_type": "code",
   "execution_count": 44,
   "id": "c385982c",
   "metadata": {},
   "outputs": [],
   "source": [
    "APK=Reaction(\"APK\")\n",
    "APK.name='APK'\n",
    "APK.lower_bound=-1000\n",
    "APK.upper_bound=1000"
   ]
  },
  {
   "cell_type": "code",
   "execution_count": 45,
   "id": "d0a9469e",
   "metadata": {},
   "outputs": [],
   "source": [
    "APK.add_metabolites({ADP:-2,AMP:1,ATP:1})"
   ]
  },
  {
   "cell_type": "markdown",
   "id": "8852180e",
   "metadata": {},
   "source": [
    "## (ATP hydrolysis ) ATP + H2O → ADP + Pi + H+"
   ]
  },
  {
   "cell_type": "code",
   "execution_count": 46,
   "id": "fd192672",
   "metadata": {},
   "outputs": [],
   "source": [
    "ATPhydrolysis=Reaction(\"ATPhydrolysis\")\n",
    "ATPhydrolysis.name='ATPhydrolysis'\n",
    "ATPhydrolysis.lower_bound=0\n",
    "ATPhydrolysis.upper_bound=1000"
   ]
  },
  {
   "cell_type": "code",
   "execution_count": 47,
   "id": "98b30172",
   "metadata": {},
   "outputs": [],
   "source": [
    "ATPhydrolysis.add_metabolites({ATP:-1,H2O:-1,ADP:1,PI:1,H:1})"
   ]
  },
  {
   "cell_type": "markdown",
   "id": "a0bd8fab",
   "metadata": {},
   "source": [
    "## ( NADH oxidation ) NADH → NAD + H+"
   ]
  },
  {
   "cell_type": "code",
   "execution_count": 48,
   "id": "24f294af",
   "metadata": {},
   "outputs": [],
   "source": [
    "NADHoxidation=Reaction(\"NADHoxidation\")\n",
    "NADHoxidation.name='NADHoxidation'\n",
    "NADHoxidation.lower_bound=0\n",
    "NADHoxidation.upper_bound=1000"
   ]
  },
  {
   "cell_type": "code",
   "execution_count": 49,
   "id": "db100f95",
   "metadata": {},
   "outputs": [],
   "source": [
    "NADHoxidation.add_metabolites({NADH:-1,NAD:1,H:1})"
   ]
  },
  {
   "cell_type": "markdown",
   "id": "53fd7c53",
   "metadata": {},
   "source": [
    "# Pentose pathway "
   ]
  },
  {
   "cell_type": "markdown",
   "id": "ec3ab8cc",
   "metadata": {},
   "source": [
    "## ( G6PDH ) G6P dehydrogenase G6P+NADP → GL6P+NADPH + H"
   ]
  },
  {
   "cell_type": "code",
   "execution_count": 50,
   "id": "0d813e76",
   "metadata": {},
   "outputs": [],
   "source": [
    "G6PDH=Reaction(\"G6PDH\")\n",
    "G6PDH.name='6-Phosphogluconolactone'\n",
    "G6PDH.lower_bound=0\n",
    "G6PDH.upper_bound=1000"
   ]
  },
  {
   "cell_type": "code",
   "execution_count": 51,
   "id": "fe2944cb",
   "metadata": {},
   "outputs": [],
   "source": [
    "NADP=Metabolite('NADP', formula='C21H27N7O14P2 ', name='Nicotinamide adenine dinucleotide phosphate (oxidized)', compartment='c')\n",
    "\n",
    "GL6P=Metabolite('GL6P', formula='C21H27N7O14P2 ', name='6-Phosphogluconolactone',compartment='c')\n",
    "\n",
    "NADPH=Metabolite('NADPH', formula='C21H29N7O17P3 ', name='Nicotinamide adenine', compartment='c')"
   ]
  },
  {
   "cell_type": "code",
   "execution_count": 52,
   "id": "c366f140",
   "metadata": {},
   "outputs": [],
   "source": [
    "G6PDH.add_metabolites({G6P:-1,NADP:-1,GL6P:1,NADPH:1,H:1})"
   ]
  },
  {
   "cell_type": "markdown",
   "id": "034ef6c0",
   "metadata": {},
   "source": [
    "## ( PGLase ) 6-Phosphogluconolactonase GL6P+H2O →GO6P + H"
   ]
  },
  {
   "cell_type": "code",
   "execution_count": 53,
   "id": "efa8b18a",
   "metadata": {},
   "outputs": [],
   "source": [
    "PGLase=Reaction(\"PGLase\")\n",
    "PGLase.name='6-Phosphogluconolactonase'\n",
    "PGLase.lower_bound=0\n",
    "PGLase.upper_bound=1000"
   ]
  },
  {
   "cell_type": "code",
   "execution_count": 54,
   "id": "65155c6f",
   "metadata": {},
   "outputs": [],
   "source": [
    "GO6P=Metabolite('GO6P',formula='H2O',name='6-Phosphoglyconate',compartment='c')"
   ]
  },
  {
   "cell_type": "code",
   "execution_count": 55,
   "id": "7085ecd9",
   "metadata": {},
   "outputs": [],
   "source": [
    "PGLase.add_metabolites({GL6P:-1,H2O:-1,GO6P:1,H:1})"
   ]
  },
  {
   "cell_type": "markdown",
   "id": "10d83401",
   "metadata": {},
   "source": [
    "## ( GL6PDH ) GO6P dehydrogenase GO6P+NADP→ RU5P+NADPH+CO2"
   ]
  },
  {
   "cell_type": "code",
   "execution_count": 56,
   "id": "aeccb456",
   "metadata": {},
   "outputs": [],
   "source": [
    "GL6PHD=Reaction(\"GL6PHD\")\n",
    "GL6PHD.name='6-Phosphogluconolactonase'\n",
    "GL6PHD.lower_bound=0\n",
    "GL6PHD.upper_bound=1000"
   ]
  },
  {
   "cell_type": "code",
   "execution_count": 57,
   "id": "7c0a5c1a",
   "metadata": {},
   "outputs": [],
   "source": [
    "RU5P=Metabolite('RU5P',formula='C5H11O8P',name='Ribulose 5-phosphate',compartment='c')\n",
    "\n",
    "CO2=Metabolite( 'CO2', formula='CO2', name='Carbon dioxide', compartment='c')"
   ]
  },
  {
   "cell_type": "code",
   "execution_count": 58,
   "id": "2f0ce57e",
   "metadata": {},
   "outputs": [],
   "source": [
    "GL6PHD.add_metabolites({GO6P:-1,NADP:-1,RU5P:1,NADPH:1,CO2:1})"
   ]
  },
  {
   "cell_type": "markdown",
   "id": "5279a9e0",
   "metadata": {},
   "source": [
    "## ( R5PE ) X5P epimerase RU5P ↔ X5P"
   ]
  },
  {
   "cell_type": "code",
   "execution_count": 59,
   "id": "1807dbdc",
   "metadata": {},
   "outputs": [],
   "source": [
    "R5PE=Reaction(\"R5PE\")\n",
    "R5PE.name='6-Phosphogluconolactonase'\n",
    "R5PE.lower_bound=-1000\n",
    "R5PE.upper_bound=1000"
   ]
  },
  {
   "cell_type": "code",
   "execution_count": 60,
   "id": "9b07b9f0",
   "metadata": {},
   "outputs": [],
   "source": [
    "X5P=Metabolite(  'X5P',  formula='C5H11O8P',  name='Xylose 5-phosphate',  compartment='c')"
   ]
  },
  {
   "cell_type": "code",
   "execution_count": 61,
   "id": "1a424640",
   "metadata": {},
   "outputs": [],
   "source": [
    "R5PE.add_metabolites({RU5P:-1,X5P:1})"
   ]
  },
  {
   "cell_type": "markdown",
   "id": "84478f5f",
   "metadata": {},
   "source": [
    "## ( R5PI ) R5P isomerase RU5P  ↔  R5P"
   ]
  },
  {
   "cell_type": "code",
   "execution_count": 62,
   "id": "44cb6fb4",
   "metadata": {},
   "outputs": [],
   "source": [
    "R5PI=Reaction(\"R5PI\")\n",
    "R5PI.name='6-Phosphogluconolactonase'\n",
    "R5PI.lower_bound=-1000\n",
    "R5PI.upper_bound=1000"
   ]
  },
  {
   "cell_type": "code",
   "execution_count": 63,
   "id": "31d5bf3a",
   "metadata": {},
   "outputs": [],
   "source": [
    "R5P=Metabolite( 'R5P', formula='C5H11O8P', name='Ribose 5-phosphate', compartment='c')"
   ]
  },
  {
   "cell_type": "code",
   "execution_count": 64,
   "id": "772ca3d2",
   "metadata": {},
   "outputs": [],
   "source": [
    "R5PI.add_metabolites({RU5P:-1,R5P:1})"
   ]
  },
  {
   "cell_type": "markdown",
   "id": "cf22a0ef",
   "metadata": {},
   "source": [
    "## ( TKI ) Transketolase I X5P+R5P ↔ S7P + GAP"
   ]
  },
  {
   "cell_type": "code",
   "execution_count": 65,
   "id": "ef4841a1",
   "metadata": {},
   "outputs": [],
   "source": [
    "TKI=Reaction(\"TKI\")\n",
    "TKI.name='6-Phosphogluconolactonase'\n",
    "TKI.lower_bound=-1000\n",
    "TKI.upper_bound=1000"
   ]
  },
  {
   "cell_type": "code",
   "execution_count": 66,
   "id": "85942377",
   "metadata": {},
   "outputs": [],
   "source": [
    "S7P=Metabolite('S7P',formula='C5H11O8P',name='Sedoheptulose 7-phosphate',compartment='c')\n",
    "\n",
    "GAP=Metabolite('GAP',formula='C5H11O8P',name='Sedoheptulose 7-phosphate',compartment='c')"
   ]
  },
  {
   "cell_type": "code",
   "execution_count": 67,
   "id": "e41c54cb",
   "metadata": {},
   "outputs": [],
   "source": [
    "TKI.add_metabolites({X5P:-1,R5P:-1,S7P:1,GAP:1})"
   ]
  },
  {
   "cell_type": "markdown",
   "id": "8e59adda",
   "metadata": {},
   "source": [
    "## ( TKII ) Transketolase II X5P+E4P ↔ F6P+GAP"
   ]
  },
  {
   "cell_type": "code",
   "execution_count": 68,
   "id": "281db1e2",
   "metadata": {},
   "outputs": [],
   "source": [
    "TKII=Reaction(\"TKII\")\n",
    "TKII.name='6-Phosphogluconolactonase'\n",
    "TKII.lower_bound=-1000\n",
    "TKII.upper_bound=1000"
   ]
  },
  {
   "cell_type": "code",
   "execution_count": 69,
   "id": "717e470f",
   "metadata": {},
   "outputs": [],
   "source": [
    "E4P=Metabolite('E4P',formula='C5H11O8P',name='Erythrose 4-phosphate',compartment='c')\n",
    "\n",
    "F6P=Metabolite('F6P',formula='C6H13O9P',name='Erythrose 4-phosphate',compartment='c')"
   ]
  },
  {
   "cell_type": "code",
   "execution_count": 70,
   "id": "3a923e4c",
   "metadata": {},
   "outputs": [],
   "source": [
    "TKII.add_metabolites({X5P:-1,E4P:-1,F6P:1,GAP:1})"
   ]
  },
  {
   "cell_type": "markdown",
   "id": "69793633",
   "metadata": {},
   "source": [
    "## ( TALA ) Transaldolase S7P+GAP ↔  E4P+ F6P"
   ]
  },
  {
   "cell_type": "code",
   "execution_count": 71,
   "id": "b13115b1",
   "metadata": {},
   "outputs": [],
   "source": [
    "TALA=Reaction(\"TALA\")\n",
    "TALA.name='6-Phosphogluconolactonase'\n",
    "TALA.lower_bound=-1000\n",
    "TALA.upper_bound=1000"
   ]
  },
  {
   "cell_type": "code",
   "execution_count": 72,
   "id": "9ec35912",
   "metadata": {},
   "outputs": [],
   "source": [
    "TALA.add_metabolites({S7P:-1,GAP:-1,E4P:1,F6P:1})"
   ]
  },
  {
   "cell_type": "markdown",
   "id": "daf75ead",
   "metadata": {},
   "source": [
    "## ( GSSGR ) Glutathione reductase GSSG+NADPH+H ↔ 2GSH + NADP"
   ]
  },
  {
   "cell_type": "code",
   "execution_count": 73,
   "id": "47ea912f",
   "metadata": {},
   "outputs": [],
   "source": [
    "GSSGR=Reaction(\"GSSGR\")\n",
    "GSSGR.name='6-Phosphogluconolactonase'\n",
    "GSSGR.lower_bound=-1000\n",
    "GSSGR.upper_bound=1000"
   ]
  },
  {
   "cell_type": "code",
   "execution_count": 74,
   "id": "d13abf32",
   "metadata": {},
   "outputs": [],
   "source": [
    "GSSG=Metabolite('GSSG',formula='C6H13O9P',name='Glutathione (oxidized)',compartment='c')\n",
    "\n",
    "GSH=Metabolite( 'GSH', formula='C6H13O9P', name='Glutathione (reduced)',compartment='c')"
   ]
  },
  {
   "cell_type": "code",
   "execution_count": 75,
   "id": "92ff1b34",
   "metadata": {},
   "outputs": [],
   "source": [
    "GSSGR.add_metabolites({GSSG:-1,NADPH:-1,H:-1,GSH:2,NADP:1})"
   ]
  },
  {
   "cell_type": "markdown",
   "id": "5457f1b6",
   "metadata": {},
   "source": [
    "## ( GSHR ) Glutathione oxidase 2GSH ↔ GSSG + 2H"
   ]
  },
  {
   "cell_type": "code",
   "execution_count": 76,
   "id": "9ff7c787",
   "metadata": {},
   "outputs": [],
   "source": [
    "GSHR=Reaction(\"GSHR\")\n",
    "GSHR.name='6-Phosphogluconolactonase'\n",
    "GSHR.lower_bound=-1000\n",
    "GSHR.upper_bound=1000"
   ]
  },
  {
   "cell_type": "code",
   "execution_count": 77,
   "id": "90f77189",
   "metadata": {},
   "outputs": [],
   "source": [
    "GSHR.add_metabolites({GSH:-2,GSSG:1,H:2})"
   ]
  },
  {
   "cell_type": "markdown",
   "id": "46b3a298",
   "metadata": {},
   "source": [
    "# Fermentation Pathway"
   ]
  },
  {
   "cell_type": "markdown",
   "id": "b29d15e3",
   "metadata": {},
   "source": [
    "# 2PYR+2NADH+2H↔ 2LAC + 2NAD"
   ]
  },
  {
   "cell_type": "code",
   "execution_count": 78,
   "id": "a3f17faf",
   "metadata": {},
   "outputs": [],
   "source": [
    "NAD_Regenerate=Reaction(\"NAD_Regenerate\")\n",
    "NAD_Regenerate.name='Lactate Fermentation'\n",
    "NAD_Regenerate.lower_bound=-1000\n",
    "NAD_Regenerate.upper_bound=1000"
   ]
  },
  {
   "cell_type": "code",
   "execution_count": 79,
   "id": "bd2e63a8",
   "metadata": {},
   "outputs": [],
   "source": [
    "NAD_Regenerate.add_metabolites({PYR:-2,NADH:-2,H:-2,NAD:2,LAC:2})"
   ]
  },
  {
   "cell_type": "markdown",
   "id": "8c9c3ebf",
   "metadata": {},
   "source": [
    "## Convert Pyruvate to Acetyl_COA Before TCA Cycle"
   ]
  },
  {
   "cell_type": "markdown",
   "id": "85a6f2e4",
   "metadata": {},
   "source": [
    "## PYR + NAD + COA ↔ Acetyl_COA + CO2 + NADH"
   ]
  },
  {
   "cell_type": "code",
   "execution_count": 80,
   "id": "a6c797fb",
   "metadata": {},
   "outputs": [],
   "source": [
    "Pyruvate_dehydrogenase_complex=Reaction('Pyruvate_dehydrogenase_complex')\n",
    "Pyruvate_dehydrogenase_complex.name='Pyruvate dehydrogenase complex'\n",
    "Pyruvate_dehydrogenase_complex.lower_bound=-1000\n",
    "Pyruvate_dehydrogenase_complex.upper_bound=1000"
   ]
  },
  {
   "cell_type": "code",
   "execution_count": 81,
   "id": "c524074a",
   "metadata": {},
   "outputs": [],
   "source": [
    "CoA=Metabolite('CoA',name= \"CoA\",formula=\"C21H36N7O16P3S\",compartment='c')\n",
    "\n",
    "Acetyl_CoA=Metabolite('Acetyl_CoA',name= \"Acetyl CoA\",formula=\"C23H38N7O17P3S\",compartment='c')"
   ]
  },
  {
   "cell_type": "code",
   "execution_count": 82,
   "id": "30cfc2c2",
   "metadata": {},
   "outputs": [],
   "source": [
    "Pyruvate_dehydrogenase_complex.add_metabolites({PYR:-1,NAD:-1,CoA:-1,Acetyl_CoA:1,CO2:1,NADH:1})"
   ]
  },
  {
   "cell_type": "markdown",
   "id": "8c2b93e2",
   "metadata": {},
   "source": [
    "# Acetate Fermentation"
   ]
  },
  {
   "cell_type": "markdown",
   "id": "7de3fe73",
   "metadata": {},
   "source": [
    "#   Acetyl-CoA + phosphate → Acetyl-phosphate + CoA"
   ]
  },
  {
   "cell_type": "code",
   "execution_count": 83,
   "id": "0ced3cc4",
   "metadata": {},
   "outputs": [],
   "source": [
    "PTAr=Reaction(\"PTAr\")\n",
    "PTAr.name='Phosphotransacetylase'\n",
    "PTAr.lower_bound=-1000\n",
    "PTAr.upper_bound=1000"
   ]
  },
  {
   "cell_type": "code",
   "execution_count": 84,
   "id": "f745f5f6",
   "metadata": {},
   "outputs": [],
   "source": [
    "actp=Metabolite('Acetyl_phosphate',name= \"Acetyl phosphate\",formula=\"C2H3O5P\",compartment='c')"
   ]
  },
  {
   "cell_type": "code",
   "execution_count": 85,
   "id": "35e8878f",
   "metadata": {},
   "outputs": [],
   "source": [
    "PTAr.add_metabolites({Acetyl_CoA:-1,PI:-1,CoA:-1,actp:1})"
   ]
  },
  {
   "cell_type": "markdown",
   "id": "4cc48c76",
   "metadata": {},
   "source": [
    "#  Acetyl-phosphate + ADP → Acetate + ATP"
   ]
  },
  {
   "cell_type": "code",
   "execution_count": 86,
   "id": "dc4800f9",
   "metadata": {},
   "outputs": [],
   "source": [
    "ACK=Reaction(\"ACK\")\n",
    "ACK.name='Acetate kinase'\n",
    "ACK.lower_bound=-1000\n",
    "ACK.upper_bound=1000"
   ]
  },
  {
   "cell_type": "code",
   "execution_count": 87,
   "id": "02bad931",
   "metadata": {},
   "outputs": [],
   "source": [
    "ac=Metabolite('Acetate',name= \"Acetate\",formula=\"C2H3O2\",compartment='c')"
   ]
  },
  {
   "cell_type": "code",
   "execution_count": 88,
   "id": "c9d00d71",
   "metadata": {},
   "outputs": [],
   "source": [
    "ACK.add_metabolites({actp:-1,ADP:-1,ac:1,ATP:1})"
   ]
  },
  {
   "cell_type": "markdown",
   "id": "427390a2",
   "metadata": {},
   "source": [
    "# TCA Cycle Reactions"
   ]
  },
  {
   "cell_type": "markdown",
   "id": "958d6a7e",
   "metadata": {},
   "source": [
    "## Acetyl_COA + Oxaloacetate + H2O↔Citrate + CoA"
   ]
  },
  {
   "cell_type": "code",
   "execution_count": 89,
   "id": "a7e225ad",
   "metadata": {},
   "outputs": [],
   "source": [
    "Citrate_synthase=Reaction('Citrate_synthase')\n",
    "Citrate_synthase.name='Citrate synthase'\n",
    "Citrate_synthase.lower_bound=-1000\n",
    "Citrate_synthase.upper_bound=1000"
   ]
  },
  {
   "cell_type": "code",
   "execution_count": 90,
   "id": "d604777e",
   "metadata": {},
   "outputs": [],
   "source": [
    "Oxaloacetate=Metabolite('Oxaloacetate',name= \"Oxaloacetate\",formula=\"C4H4O5\",compartment='c')\n",
    "\n",
    "Citrate=Metabolite('Citrate',name= \"Citrate\",formula=\"C6H8O7\",compartment='c')"
   ]
  },
  {
   "cell_type": "code",
   "execution_count": 91,
   "id": "229298bc",
   "metadata": {},
   "outputs": [],
   "source": [
    "Citrate_synthase.add_metabolites({Acetyl_CoA:-1,Oxaloacetate:-1,H2O:-1,Citrate:1,CoA:1})"
   ]
  },
  {
   "cell_type": "markdown",
   "id": "90aa0031",
   "metadata": {},
   "source": [
    "## Citrate ↔ Isocitrate"
   ]
  },
  {
   "cell_type": "code",
   "execution_count": 92,
   "id": "a071f10d",
   "metadata": {},
   "outputs": [],
   "source": [
    "Aconitase=Reaction('Aconitase')\n",
    "Aconitase.name='Aconitase'\n",
    "Aconitase.lower_bound=-1000\n",
    "Aconitase.upper_bound=1000"
   ]
  },
  {
   "cell_type": "code",
   "execution_count": 93,
   "id": "db82d454",
   "metadata": {},
   "outputs": [],
   "source": [
    "Isocitrate=Metabolite('Isocitrate',name= \"Isocitrate\",formula=\"C6H8O7\",compartment='c')"
   ]
  },
  {
   "cell_type": "code",
   "execution_count": 94,
   "id": "9feb9541",
   "metadata": {},
   "outputs": [],
   "source": [
    "Aconitase.add_metabolites({Citrate:-1,Isocitrate:1})"
   ]
  },
  {
   "cell_type": "markdown",
   "id": "b977ffab",
   "metadata": {},
   "source": [
    "## Isocitrate + NAD↔ α_Ketoglutarate + CO2 + NADH + H"
   ]
  },
  {
   "cell_type": "code",
   "execution_count": 95,
   "id": "90407df3",
   "metadata": {},
   "outputs": [],
   "source": [
    "Isocitrate_dehydrogenase=Reaction('Isocitrate_dehydrogenase')\n",
    "Isocitrate_dehydrogenase.name='Isocitrate dehydrogenase'\n",
    "Isocitrate_dehydrogenase.lower_bound=-1000\n",
    "Isocitrate_dehydrogenase.upper_bound=1000"
   ]
  },
  {
   "cell_type": "code",
   "execution_count": 96,
   "id": "2c387339",
   "metadata": {},
   "outputs": [],
   "source": [
    "α_Ketoglutarate=Metabolite('α_Ketoglutarate',name= \"α_Ketoglutarate\",formula=\"C5H6O5\",compartment='c')"
   ]
  },
  {
   "cell_type": "code",
   "execution_count": 97,
   "id": "1abb0e4f",
   "metadata": {},
   "outputs": [],
   "source": [
    "Isocitrate_dehydrogenase.add_metabolites({Isocitrate:-1,NAD:-1,α_Ketoglutarate:1,CO2:1,NADH:1,H:1})"
   ]
  },
  {
   "cell_type": "markdown",
   "id": "c54ca3b1",
   "metadata": {},
   "source": [
    "## α_Ketoglutarate + NAD + CoA↔ Succinyl_CoA + CO2 + NADH + H"
   ]
  },
  {
   "cell_type": "code",
   "execution_count": 98,
   "id": "a07d7d81",
   "metadata": {},
   "outputs": [],
   "source": [
    "α_Ketoglutarate_dehydrogenase=Reaction('α_Ketoglutarate_dehydrogenase')\n",
    "α_Ketoglutarate_dehydrogenase.name='α_Ketoglutarate_dehydrogenase'\n",
    "α_Ketoglutarate_dehydrogenase.lower_bound=-1000\n",
    "α_Ketoglutarate_dehydrogenase.upper_bound=1000"
   ]
  },
  {
   "cell_type": "code",
   "execution_count": 99,
   "id": "9d08292a",
   "metadata": {},
   "outputs": [],
   "source": [
    "Succinyl_CoA=Metabolite('Succinyl_CoA',name= \"Succinyl_CoA\",formula=\"C25H40N7O19P3S\",compartment='c')"
   ]
  },
  {
   "cell_type": "code",
   "execution_count": 100,
   "id": "4fd469e5",
   "metadata": {},
   "outputs": [],
   "source": [
    "α_Ketoglutarate_dehydrogenase.add_metabolites({CoA:-1,NAD:-1,α_Ketoglutarate:-1,Succinyl_CoA:1,CO2:1,NADH:1,H:1})"
   ]
  },
  {
   "cell_type": "markdown",
   "id": "43cf7e53",
   "metadata": {},
   "source": [
    "## Succinyl_CoA + ADP + Pi↔ Succinate + CoA + ATP"
   ]
  },
  {
   "cell_type": "code",
   "execution_count": 101,
   "id": "b845f2da",
   "metadata": {},
   "outputs": [],
   "source": [
    "Succinyl_CoA_synthetase=Reaction('Succinyl_CoA_synthetase')\n",
    "Succinyl_CoA_synthetase.name='Succinyl_CoA_synthetase'\n",
    "Succinyl_CoA_synthetase.lower_bound=-1000\n",
    "Succinyl_CoA_synthetase.upper_bound=1000"
   ]
  },
  {
   "cell_type": "code",
   "execution_count": 102,
   "id": "7df7c634",
   "metadata": {},
   "outputs": [],
   "source": [
    "Succinate=Metabolite('Succinate',name= \"Succinate\",formula=\"C4H6O4\",compartment='c')"
   ]
  },
  {
   "cell_type": "code",
   "execution_count": 103,
   "id": "2773d81d",
   "metadata": {},
   "outputs": [],
   "source": [
    "Succinyl_CoA_synthetase.add_metabolites({Succinyl_CoA:-1,ADP:-1,PI:-1,Succinate:1,CoA:1,ATP:1})"
   ]
  },
  {
   "cell_type": "markdown",
   "id": "bb81e4fe",
   "metadata": {},
   "source": [
    "## Succinate + FAD + Pi ↔ Fumarate + FADH2"
   ]
  },
  {
   "cell_type": "code",
   "execution_count": 104,
   "id": "b8992119",
   "metadata": {},
   "outputs": [],
   "source": [
    "Succinate_dehydrogenase=Reaction('Succinate_dehydrogenase')\n",
    "Succinate_dehydrogenase.name='Succinate dehydrogenase'\n",
    "Succinate_dehydrogenase.lower_bound=-1000\n",
    "Succinate_dehydrogenase.upper_bound=1000"
   ]
  },
  {
   "cell_type": "code",
   "execution_count": 105,
   "id": "dd2ce024",
   "metadata": {},
   "outputs": [],
   "source": [
    "FAD=Metabolite('FAD', name= \"flavin adenine dinucleotide \", formula=\"C27H33N9O15P2\", compartment='c')\n",
    "\n",
    "FADH2=Metabolite('FADH2',name= \"flavin adenine dinucleotidee (reduced)\",formula=\"C27H33N9O15P2\",compartment='c')\n",
    "\n",
    "Fumarate=Metabolite('Fumarate', name= \"Fumarate\", formula=\"C4H4O4\", compartment='c')"
   ]
  },
  {
   "cell_type": "code",
   "execution_count": 106,
   "id": "15363253",
   "metadata": {},
   "outputs": [],
   "source": [
    "Succinate_dehydrogenase.add_metabolites({Succinate:-1,FAD:-1,PI:-1,Fumarate:1,FADH2:1})"
   ]
  },
  {
   "cell_type": "markdown",
   "id": "b05247a2",
   "metadata": {},
   "source": [
    "## Fumarate + H2O ↔ L_Malate"
   ]
  },
  {
   "cell_type": "code",
   "execution_count": 107,
   "id": "d12a2736",
   "metadata": {},
   "outputs": [],
   "source": [
    "Fumarase=Reaction('Fumarase')\n",
    "Fumarase.name='Fumarase'\n",
    "Fumarase.lower_bound=-1000\n",
    "Fumarase.upper_bound=1000"
   ]
  },
  {
   "cell_type": "code",
   "execution_count": 108,
   "id": "2c4ef736",
   "metadata": {},
   "outputs": [],
   "source": [
    "L_Malate=Metabolite('L_Malate',name= \"L_Malate\",formula=\"C4H6O5\",compartment='c')"
   ]
  },
  {
   "cell_type": "code",
   "execution_count": 109,
   "id": "950160de",
   "metadata": {},
   "outputs": [],
   "source": [
    "Fumarase.add_metabolites({Fumarate:-1,H2O:-1,L_Malate:1})"
   ]
  },
  {
   "cell_type": "markdown",
   "id": "8c04f498",
   "metadata": {},
   "source": [
    "## L_Malate + NAD ↔ Oxaloacetate + NADH + H"
   ]
  },
  {
   "cell_type": "code",
   "execution_count": 110,
   "id": "d7c8f799",
   "metadata": {},
   "outputs": [],
   "source": [
    "Malate_dehydrogenase=Reaction('Malate_dehydrogenase')\n",
    "Malate_dehydrogenase.name='Fumarase'\n",
    "Malate_dehydrogenase.lower_bound=-1000\n",
    "Malate_dehydrogenase.upper_bound=1000"
   ]
  },
  {
   "cell_type": "code",
   "execution_count": 111,
   "id": "64e92027",
   "metadata": {},
   "outputs": [],
   "source": [
    "Malate_dehydrogenase.add_metabolites({L_Malate:-1,NAD:-1,Oxaloacetate:1,NADH:1,H:1})"
   ]
  },
  {
   "cell_type": "markdown",
   "id": "91bc9964",
   "metadata": {},
   "source": [
    "# Oxidative phosphorylation Pathway"
   ]
  },
  {
   "cell_type": "markdown",
   "id": "2f497997",
   "metadata": {},
   "source": [
    "## Q + 5H + NADH  → QH2 + 4H + NAD"
   ]
  },
  {
   "cell_type": "code",
   "execution_count": 112,
   "id": "3b0e7b7f",
   "metadata": {},
   "outputs": [],
   "source": [
    "Complex_I=Reaction('Complex_I')\n",
    "Complex_I.name='NADH dehydrogenase'\n",
    "Complex_I.lower_bound=0\n",
    "Complex_I.upper_bound=1000"
   ]
  },
  {
   "cell_type": "code",
   "execution_count": 113,
   "id": "34f5bb01",
   "metadata": {},
   "outputs": [],
   "source": [
    "Q=Metabolite('Q',name= \"ubiquinone\",formula=\"C59H90O4\",compartment='c')\n",
    "\n",
    "QH2=Metabolite('QH2',name= \"ubiquinol\",formula=\"C59H92O4\",compartment='c')"
   ]
  },
  {
   "cell_type": "code",
   "execution_count": 114,
   "id": "2be51317",
   "metadata": {},
   "outputs": [],
   "source": [
    "Complex_I.add_metabolites({Q:-1,H:-5,NADH:-1,QH2:1,H:4,NAD:1})"
   ]
  },
  {
   "cell_type": "markdown",
   "id": "d4d309f6",
   "metadata": {},
   "source": [
    "## Succinate + Q → Furmarate  + QH2"
   ]
  },
  {
   "cell_type": "code",
   "execution_count": 115,
   "id": "3d8ca1c6",
   "metadata": {},
   "outputs": [],
   "source": [
    "Complex_II=Reaction('Complex_II')\n",
    "Complex_II.name='Succinate-Q oxidoreductase'\n",
    "Complex_II.lower_bound=0\n",
    "Complex_II.upper_bound=1000"
   ]
  },
  {
   "cell_type": "code",
   "execution_count": 116,
   "id": "5b07ed15",
   "metadata": {},
   "outputs": [],
   "source": [
    "Complex_II.add_metabolites({Q:-1,Succinate:-1,QH2:1,Fumarate:1})"
   ]
  },
  {
   "cell_type": "markdown",
   "id": "ed8677fe",
   "metadata": {},
   "source": [
    "## QH2 + 2Fe(+3)  → Q + 2Fe(+2) + 2H"
   ]
  },
  {
   "cell_type": "code",
   "execution_count": 117,
   "id": "ac88c25b",
   "metadata": {},
   "outputs": [],
   "source": [
    "Complex_III=Reaction('Complex_III')\n",
    "Complex_III.name='Q-cytochrome c oxidoreductase'\n",
    "Complex_III.lower_bound=0\n",
    "Complex_III.upper_bound=1000"
   ]
  },
  {
   "cell_type": "code",
   "execution_count": 118,
   "id": "ec6dcef1",
   "metadata": {},
   "outputs": [],
   "source": [
    "FE2=Metabolite('Fe+2',name= \"Fe++\",formula=\"Fe\",compartment='c')\n",
    "\n",
    "FE3=Metabolite('Fe+3',name= \"Fe+++\",formula=\"Fe\",compartment='c')"
   ]
  },
  {
   "cell_type": "code",
   "execution_count": 119,
   "id": "9be5dd48",
   "metadata": {},
   "outputs": [],
   "source": [
    "Complex_III.add_metabolites({QH2:-1,FE3:-2,FE2:2,Q:1,H:2})"
   ]
  },
  {
   "cell_type": "markdown",
   "id": "d958f17a",
   "metadata": {},
   "source": [
    "## 4Fe(+2) + 8H + O2 → 4Fe(+3) + 4H + 2H2O"
   ]
  },
  {
   "cell_type": "code",
   "execution_count": 120,
   "id": "91d3bad7",
   "metadata": {},
   "outputs": [],
   "source": [
    "Complex_IV=Reaction('Complex_IV')\n",
    "Complex_IV.name='Cytochrome c oxidase'\n",
    "Complex_IV.lower_bound=0\n",
    "Complex_IV.upper_bound=1000"
   ]
  },
  {
   "cell_type": "code",
   "execution_count": 121,
   "id": "e595e996",
   "metadata": {},
   "outputs": [],
   "source": [
    "O2=Metabolite('O2',name= \"Oxgen\",formula=\"O2\",compartment='c')\n"
   ]
  },
  {
   "cell_type": "code",
   "execution_count": 122,
   "id": "c6f80f6c",
   "metadata": {},
   "outputs": [],
   "source": [
    "Complex_IV.add_metabolites({FE2:-4,H:-8,O2:-1,FE3:4,H:4,H2O:2})"
   ]
  },
  {
   "cell_type": "markdown",
   "id": "0900d6c5",
   "metadata": {},
   "source": [
    "## ATP + 4H + H2O↔ ADP + 5H + P"
   ]
  },
  {
   "cell_type": "code",
   "execution_count": 123,
   "id": "1a9ea900",
   "metadata": {},
   "outputs": [],
   "source": [
    "Complex_V=Reaction('Complex_V')\n",
    "Complex_V.name='ATP synthase'\n",
    "Complex_V.lower_bound=-1000\n",
    "Complex_V.upper_bound=1000"
   ]
  },
  {
   "cell_type": "code",
   "execution_count": 124,
   "id": "f4ff5282",
   "metadata": {},
   "outputs": [],
   "source": [
    "P=Metabolite('P',formula='PO₄³⁻',name='phosphate',compartment='c')\n"
   ]
  },
  {
   "cell_type": "code",
   "execution_count": 125,
   "id": "c5040fcf",
   "metadata": {},
   "outputs": [],
   "source": [
    "Complex_V.add_metabolites({ATP:-1,H:-4,H2O:-1,ADP:1,H:5,PI:1})"
   ]
  },
  {
   "cell_type": "markdown",
   "id": "a2356e57",
   "metadata": {},
   "source": [
    "## diphosphate + H2O → H+ + 2 P"
   ]
  },
  {
   "cell_type": "code",
   "execution_count": 126,
   "id": "f2928d2a",
   "metadata": {},
   "outputs": [],
   "source": [
    "Inorganic_diphosphatase=Reaction('Inorganic_diphosphatase')\n",
    "Inorganic_diphosphatase.name='Inorganic diphosphatase'\n",
    "Inorganic_diphosphatase.lower_bound=0\n",
    "Inorganic_diphosphatase.upper_bound=1000"
   ]
  },
  {
   "cell_type": "code",
   "execution_count": 127,
   "id": "854d7b44",
   "metadata": {},
   "outputs": [],
   "source": [
    "diphosphate=Metabolite('diphosphate',name= \"diphosphate\",formula=\"P2O7H\",compartment='c')"
   ]
  },
  {
   "cell_type": "code",
   "execution_count": 128,
   "id": "4420a5bc",
   "metadata": {},
   "outputs": [],
   "source": [
    "Inorganic_diphosphatase.add_metabolites({diphosphate:-1,H2O:-1,H:1,PI:2})"
   ]
  },
  {
   "cell_type": "markdown",
   "id": "0662c04c",
   "metadata": {},
   "source": [
    "## P + ATP ↔2P + ADP"
   ]
  },
  {
   "cell_type": "code",
   "execution_count": 129,
   "id": "cc0a63e5",
   "metadata": {},
   "outputs": [],
   "source": [
    "APP=Reaction('APP')\n",
    "APP.name='ATP-polyphosphate phosphotransferase'\n",
    "APP.lower_bound=-1000\n",
    "APP.upper_bound=1000"
   ]
  },
  {
   "cell_type": "code",
   "execution_count": 130,
   "id": "f939c290",
   "metadata": {},
   "outputs": [],
   "source": [
    "APP.add_metabolites({PI:-1,ATP:-1,ADP:1,PI:2})"
   ]
  },
  {
   "cell_type": "markdown",
   "id": "ca629bf6",
   "metadata": {},
   "source": [
    "# Extracellular Exchange"
   ]
  },
  {
   "cell_type": "markdown",
   "id": "b38bf9a4",
   "metadata": {},
   "source": [
    "## ( PYR Pyruvate exchange ) PYR ↔"
   ]
  },
  {
   "cell_type": "code",
   "execution_count": 131,
   "id": "eea03215",
   "metadata": {},
   "outputs": [],
   "source": [
    "PYRexchange=Reaction(\"PYRexchange\")\n",
    "PYRexchange.name='PYRexchange'\n",
    "PYRexchange.lower_bound=-1000\n",
    "PYRexchange.upper_bound=1000"
   ]
  },
  {
   "cell_type": "code",
   "execution_count": 132,
   "id": "db285b1f",
   "metadata": {},
   "outputs": [],
   "source": [
    "PYRexchange.add_metabolites({PYR:-1})"
   ]
  },
  {
   "cell_type": "markdown",
   "id": "78392554",
   "metadata": {},
   "source": [
    "## ( LAC Lactate exchange ) LAC ↔"
   ]
  },
  {
   "cell_type": "code",
   "execution_count": 133,
   "id": "ecc3280e",
   "metadata": {},
   "outputs": [],
   "source": [
    "LACexchange=Reaction(\"LACexchange\")\n",
    "LACexchange.name='LACexchange'\n",
    "LACexchange.lower_bound=-1000\n",
    "LACexchange.upper_bound=1000"
   ]
  },
  {
   "cell_type": "code",
   "execution_count": 134,
   "id": "f344e407",
   "metadata": {},
   "outputs": [],
   "source": [
    "LACexchange.add_metabolites({LAC:-1})"
   ]
  },
  {
   "cell_type": "markdown",
   "id": "b9fb639c",
   "metadata": {},
   "source": [
    "## ( H Proton exchange ) H+ ↔"
   ]
  },
  {
   "cell_type": "code",
   "execution_count": 135,
   "id": "4e9e2147",
   "metadata": {},
   "outputs": [],
   "source": [
    "Proton_exchange=Reaction(\"Proton_exchange\")\n",
    "Proton_exchange.name='Proton_exchange'\n",
    "Proton_exchange.lower_bound=-1000\n",
    "Proton_exchange.upper_bound=1000"
   ]
  },
  {
   "cell_type": "code",
   "execution_count": 136,
   "id": "9f42b1ea",
   "metadata": {},
   "outputs": [],
   "source": [
    "Proton_exchange.add_metabolites({H:-1})"
   ]
  },
  {
   "cell_type": "markdown",
   "id": "da4e5110",
   "metadata": {},
   "source": [
    "## ( H2O Water exchange )  H2O ↔"
   ]
  },
  {
   "cell_type": "code",
   "execution_count": 137,
   "id": "d0385497",
   "metadata": {},
   "outputs": [],
   "source": [
    "water_exchange=Reaction(\"water_exchange\")\n",
    "water_exchange.name='water_exchange'\n",
    "water_exchange.lower_bound=-1000\n",
    "water_exchange.upper_bound=1000"
   ]
  },
  {
   "cell_type": "code",
   "execution_count": 138,
   "id": "f83fa805",
   "metadata": {},
   "outputs": [],
   "source": [
    "water_exchange.add_metabolites({H2O:-1})"
   ]
  },
  {
   "cell_type": "markdown",
   "id": "640bda03",
   "metadata": {},
   "source": [
    "## ( CO2 exchange ) CO2↔"
   ]
  },
  {
   "cell_type": "code",
   "execution_count": 139,
   "id": "890e7483",
   "metadata": {},
   "outputs": [],
   "source": [
    "CO2_Exchange=Reaction(\"CO2_Exchange\")\n",
    "CO2_Exchange.name='6-Phosphogluconolactonase'\n",
    "CO2_Exchange.lower_bound=0\n",
    "CO2_Exchange.upper_bound=1000"
   ]
  },
  {
   "cell_type": "code",
   "execution_count": 140,
   "id": "5615c1d3",
   "metadata": {},
   "outputs": [],
   "source": [
    "CO2_Exchange.add_metabolites({CO2:-1})"
   ]
  },
  {
   "cell_type": "markdown",
   "id": "c3fea94a",
   "metadata": {},
   "source": [
    "# (Acetate Exchange) AC↔ "
   ]
  },
  {
   "cell_type": "code",
   "execution_count": 141,
   "id": "9a5392a7",
   "metadata": {},
   "outputs": [],
   "source": [
    "Acetate_exchange=Reaction('Acetate_exchange')\n",
    "Acetate_exchange.name='Acetate exchange'\n",
    "Acetate_exchange.lower_bound=0\n",
    "Acetate_exchange.upper_bound=1000"
   ]
  },
  {
   "cell_type": "code",
   "execution_count": 142,
   "id": "1765e3b6",
   "metadata": {},
   "outputs": [],
   "source": [
    "Acetate_exchange.add_metabolites({ac:-1})"
   ]
  },
  {
   "cell_type": "markdown",
   "id": "2209ba55",
   "metadata": {},
   "source": [
    "## (α_Ketoglutarate_exchange) α_Ketoglutarate↔"
   ]
  },
  {
   "cell_type": "code",
   "execution_count": 143,
   "id": "02ad5b78",
   "metadata": {},
   "outputs": [],
   "source": [
    "α_Ketoglutarate_exchange=Reaction('α_Ketoglutarate_exchange')\n",
    "α_Ketoglutarate_exchange.name='α_Ketoglutarate_exchange'\n",
    "α_Ketoglutarate_exchange.lower_bound=0\n",
    "α_Ketoglutarate_exchange.upper_bound=1000"
   ]
  },
  {
   "cell_type": "code",
   "execution_count": 144,
   "id": "977c43d6",
   "metadata": {},
   "outputs": [],
   "source": [
    "α_Ketoglutarate_exchange.add_metabolites({α_Ketoglutarate:-1})"
   ]
  },
  {
   "cell_type": "markdown",
   "id": "352dc4b5",
   "metadata": {},
   "source": [
    "## (Fumarate exchange) Fumarate↔"
   ]
  },
  {
   "cell_type": "code",
   "execution_count": 145,
   "id": "faa1b333",
   "metadata": {},
   "outputs": [],
   "source": [
    "Fumarate_exchange=Reaction('Fumarate_exchange')\n",
    "Fumarate_exchange.name='Fumarate_exchange'\n",
    "Fumarate_exchange.lower_bound=0\n",
    "Fumarate_exchange.upper_bound=1000"
   ]
  },
  {
   "cell_type": "code",
   "execution_count": 146,
   "id": "3750f265",
   "metadata": {},
   "outputs": [],
   "source": [
    "Fumarate_exchange.add_metabolites({Fumarate:-1})"
   ]
  },
  {
   "cell_type": "markdown",
   "id": "cbc95782",
   "metadata": {},
   "source": [
    "## (Glucose exchange)GLUc↔"
   ]
  },
  {
   "cell_type": "code",
   "execution_count": 147,
   "id": "6848bf5f",
   "metadata": {},
   "outputs": [],
   "source": [
    "Glucose_exchange=Reaction('Glucose_exchange')\n",
    "Glucose_exchange.name='Glucose_exchange'\n",
    "Glucose_exchange.lower_bound=0\n",
    "Glucose_exchange.upper_bound=1000"
   ]
  },
  {
   "cell_type": "code",
   "execution_count": 148,
   "id": "748ad0f6",
   "metadata": {},
   "outputs": [],
   "source": [
    "Glucose_exchange.add_metabolites({GLUc:-1})"
   ]
  },
  {
   "cell_type": "markdown",
   "id": "534d7864",
   "metadata": {},
   "source": [
    "## (L_Glutamate exchange) glu↔"
   ]
  },
  {
   "cell_type": "code",
   "execution_count": 149,
   "id": "9b0cebf6",
   "metadata": {},
   "outputs": [],
   "source": [
    "L_Glutamate_exchange=Reaction('L_Glutamate_exchange')\n",
    "L_Glutamate_exchange.name='L_Glutamate_exchange'\n",
    "L_Glutamate_exchange.lower_bound=0\n",
    "L_Glutamate_exchange.upper_bound=1000"
   ]
  },
  {
   "cell_type": "code",
   "execution_count": 150,
   "id": "ab55da9e",
   "metadata": {},
   "outputs": [],
   "source": [
    "glu=Metabolite('glu',formula='C5H8NO4',name='L-Glutamate',compartment='c')"
   ]
  },
  {
   "cell_type": "code",
   "execution_count": 151,
   "id": "bc8e7612",
   "metadata": {},
   "outputs": [],
   "source": [
    "L_Glutamate_exchange.add_metabolites({glu:-1})"
   ]
  },
  {
   "cell_type": "markdown",
   "id": "25294016",
   "metadata": {},
   "source": [
    "## (L_Glutamine exchange) gln↔"
   ]
  },
  {
   "cell_type": "code",
   "execution_count": 152,
   "id": "1050c0ae",
   "metadata": {},
   "outputs": [],
   "source": [
    "L_Glutamine_exchange=Reaction('L_Glutamine_exchange')\n",
    "L_Glutamine_exchange.name='L_Glutamine_exchange'\n",
    "L_Glutamine_exchange.lower_bound=0\n",
    "L_Glutamine_exchange.upper_bound=1000"
   ]
  },
  {
   "cell_type": "code",
   "execution_count": 153,
   "id": "3ca037f3",
   "metadata": {},
   "outputs": [],
   "source": [
    "gln=Metabolite('gln',formula='C5H10N2O3',name='L-Glutamine',compartment='c')"
   ]
  },
  {
   "cell_type": "code",
   "execution_count": 154,
   "id": "e4c8e8b5",
   "metadata": {},
   "outputs": [],
   "source": [
    "L_Glutamine_exchange.add_metabolites({gln:-1})"
   ]
  },
  {
   "cell_type": "markdown",
   "id": "9dc8fc56",
   "metadata": {},
   "source": [
    "## (L_Malate exchange) L_Malate↔"
   ]
  },
  {
   "cell_type": "code",
   "execution_count": 155,
   "id": "bdbaa79f",
   "metadata": {},
   "outputs": [],
   "source": [
    "L_Malate_exchange=Reaction('L_Malate_exchange')\n",
    "L_Malate_exchange.name='L_Malate_exchange'\n",
    "L_Malate_exchange.lower_bound=0\n",
    "L_Malate_exchange.upper_bound=1000"
   ]
  },
  {
   "cell_type": "code",
   "execution_count": 156,
   "id": "fd5e4a8e",
   "metadata": {},
   "outputs": [],
   "source": [
    "L_Malate_exchange.add_metabolites({L_Malate:-1})"
   ]
  },
  {
   "cell_type": "markdown",
   "id": "4e83b0a0",
   "metadata": {},
   "source": [
    "## (O2 exchange) O2↔"
   ]
  },
  {
   "cell_type": "code",
   "execution_count": 157,
   "id": "c02f51d2",
   "metadata": {},
   "outputs": [],
   "source": [
    "O2_exchange=Reaction('O2_exchange')\n",
    "O2_exchange.name='O2_exchange'\n",
    "O2_exchange.lower_bound=-1000\n",
    "O2_exchange.upper_bound=1000"
   ]
  },
  {
   "cell_type": "code",
   "execution_count": 158,
   "id": "d63dafcb",
   "metadata": {},
   "outputs": [],
   "source": [
    "O2_exchange.add_metabolites({O2:-1})"
   ]
  },
  {
   "cell_type": "markdown",
   "id": "54117385",
   "metadata": {},
   "source": [
    "## (nh4 exchange) nh4↔"
   ]
  },
  {
   "cell_type": "code",
   "execution_count": 159,
   "id": "75f8af76",
   "metadata": {},
   "outputs": [],
   "source": [
    "nh4_exchange=Reaction('Ammonia_exchange')\n",
    "nh4_exchange.name='Ammonia_exchange'\n",
    "nh4_exchange.lower_bound=-1000\n",
    "nh4_exchange.upper_bound=1000"
   ]
  },
  {
   "cell_type": "code",
   "execution_count": 160,
   "id": "bff1a001",
   "metadata": {},
   "outputs": [],
   "source": [
    "nh4=Metabolite('nh4',formula='H4N',name='Ammonium',compartment='c')"
   ]
  },
  {
   "cell_type": "code",
   "execution_count": 161,
   "id": "fdc4ff8f",
   "metadata": {},
   "outputs": [],
   "source": [
    "nh4_exchange.add_metabolites({nh4:-1})"
   ]
  },
  {
   "cell_type": "markdown",
   "id": "b7811cd7",
   "metadata": {},
   "source": [
    "## (phosphate exchange) PI↔"
   ]
  },
  {
   "cell_type": "code",
   "execution_count": 162,
   "id": "ae26b730",
   "metadata": {},
   "outputs": [],
   "source": [
    "phosphate_exchange=Reaction('phosphate_exchange')\n",
    "phosphate_exchange.name='phosphate_exchange'\n",
    "phosphate_exchange.lower_bound=-1000\n",
    "phosphate_exchange.upper_bound=1000"
   ]
  },
  {
   "cell_type": "code",
   "execution_count": 163,
   "id": "0f7727cb",
   "metadata": {},
   "outputs": [],
   "source": [
    "phosphate_exchange.add_metabolites({PI:-1})"
   ]
  },
  {
   "cell_type": "markdown",
   "id": "12655fdd",
   "metadata": {},
   "source": [
    "## (Succinate exchange) Succinate↔"
   ]
  },
  {
   "cell_type": "code",
   "execution_count": 164,
   "id": "7f11b5f7",
   "metadata": {},
   "outputs": [],
   "source": [
    "Succinate_exchange=Reaction('Succinate_exchange')\n",
    "Succinate_exchange.name='Succinate_exchange'\n",
    "Succinate_exchange.lower_bound=0\n",
    "Succinate_exchange.upper_bound=1000"
   ]
  },
  {
   "cell_type": "code",
   "execution_count": 165,
   "id": "6fbe1f17",
   "metadata": {},
   "outputs": [],
   "source": [
    "Succinate_exchange.add_metabolites({Succinate:-1})"
   ]
  },
  {
   "cell_type": "code",
   "execution_count": null,
   "id": "b68c47ab",
   "metadata": {},
   "outputs": [],
   "source": []
  },
  {
   "cell_type": "code",
   "execution_count": 166,
   "id": "f2b4e6d0",
   "metadata": {},
   "outputs": [],
   "source": [
    "EX_ac=Reaction(\"EX_ac\")\n",
    "EX_ac.name='Acetate exchange'\n",
    "EX_ac.lower_bound=0\n",
    "EX_ac.upper_bound=1000"
   ]
  },
  {
   "cell_type": "code",
   "execution_count": 167,
   "id": "9c87b532",
   "metadata": {},
   "outputs": [],
   "source": [
    "EX_ac.add_metabolites({ac:-1})"
   ]
  },
  {
   "cell_type": "code",
   "execution_count": null,
   "id": "527f6a47",
   "metadata": {},
   "outputs": [],
   "source": []
  },
  {
   "cell_type": "markdown",
   "id": "2b21bb3b",
   "metadata": {},
   "source": [
    "# Biomass Equation"
   ]
  },
  {
   "cell_type": "code",
   "execution_count": 168,
   "id": "7842e5c2",
   "metadata": {},
   "outputs": [],
   "source": [
    "Biomass=Reaction('Biomass')\n",
    "Biomass.name='Biomass Objective Function with GAM'\n",
    "Biomass.lower_bound=0\n",
    "Biomass.upper_bound=1000\n"
   ]
  },
  {
   "cell_type": "code",
   "execution_count": 169,
   "id": "60edf3e1",
   "metadata": {},
   "outputs": [],
   "source": [
    "Biomass.add_metabolites({PG3:-1.496,ATP:-59.81,E4P:-0.361,Acetyl_CoA:-3.7478,\n",
    "F6P:-0.0709,GAP:-0.129,G6P:-0.205,H2O:-59.81,Oxaloacetate:-1.7867,PYR:-2.8328,\n",
    "PEP:-0.5191,R5P:-0.8977,NAD:-3.547,NADPH:-13.0279,\n",
    "CoA:3.7478,ADP:59.81,PI:59.81,α_Ketoglutarate:4.1182,NADP:13.0279,NADH:3.547,\n",
    "H:59.81})"
   ]
  },
  {
   "cell_type": "code",
   "execution_count": null,
   "id": "227fee3b",
   "metadata": {},
   "outputs": [],
   "source": []
  },
  {
   "cell_type": "markdown",
   "id": "ff2056c0",
   "metadata": {},
   "source": [
    "# Add Metabolic pathways reactions to Model"
   ]
  },
  {
   "cell_type": "code",
   "execution_count": 170,
   "id": "685a779a",
   "metadata": {},
   "outputs": [],
   "source": [
    "Pathways.add_reactions([GLUin,AMPin,HK,PGI,PFK,TPI,ALD,GAPDH,PGK,PGLM,ENO,PK,LDH,\n",
    "AMPout,APK,PYRexchange,LACexchange,ATPhydrolysis, NADHoxidation,Proton_exchange,\n",
    "water_exchange,G6PDH,PGLase,GL6PHD,R5PE,R5PI,TKI,TKII,TALA,GSSGR,GSHR,\n",
    "CO2_Exchange,Pyruvate_dehydrogenase_complex,ACK,PTAr,Citrate_synthase,Aconitase,\n",
    "Isocitrate_dehydrogenase,α_Ketoglutarate_dehydrogenase,Succinyl_CoA_synthetase,\n",
    "Succinate_dehydrogenase,Fumarase, Malate_dehydrogenase,Complex_I,Complex_II,\n",
    "Complex_III,Complex_IV,Complex_V,Inorganic_diphosphatase,APP,\n",
    " α_Ketoglutarate_exchange, Succinate_exchange,L_Malate_exchange,Fumarate_exchange,Glucose_exchange,O2_exchange,phosphate_exchange ,Biomass])"
   ]
  },
  {
   "cell_type": "code",
   "execution_count": 171,
   "id": "9f878696",
   "metadata": {},
   "outputs": [],
   "source": [
    "Pathways.objective='Biomass'"
   ]
  },
  {
   "cell_type": "code",
   "execution_count": 172,
   "id": "20c18fd2",
   "metadata": {},
   "outputs": [
    {
     "data": {
      "text/html": [
       "<strong><em>Optimal</em> solution with objective value 0.428</strong><br><div>\n",
       "<style scoped>\n",
       "    .dataframe tbody tr th:only-of-type {\n",
       "        vertical-align: middle;\n",
       "    }\n",
       "\n",
       "    .dataframe tbody tr th {\n",
       "        vertical-align: top;\n",
       "    }\n",
       "\n",
       "    .dataframe thead th {\n",
       "        text-align: right;\n",
       "    }\n",
       "</style>\n",
       "<table border=\"1\" class=\"dataframe\">\n",
       "  <thead>\n",
       "    <tr style=\"text-align: right;\">\n",
       "      <th></th>\n",
       "      <th>fluxes</th>\n",
       "      <th>reduced_costs</th>\n",
       "    </tr>\n",
       "  </thead>\n",
       "  <tbody>\n",
       "    <tr>\n",
       "      <th>GLUin</th>\n",
       "      <td>1.000000</td>\n",
       "      <td>8.559079e-01</td>\n",
       "    </tr>\n",
       "    <tr>\n",
       "      <th>AMPin</th>\n",
       "      <td>1.000000</td>\n",
       "      <td>0.000000e+00</td>\n",
       "    </tr>\n",
       "    <tr>\n",
       "      <th>HK</th>\n",
       "      <td>1.000000</td>\n",
       "      <td>0.000000e+00</td>\n",
       "    </tr>\n",
       "    <tr>\n",
       "      <th>PGI</th>\n",
       "      <td>0.912269</td>\n",
       "      <td>-4.440892e-16</td>\n",
       "    </tr>\n",
       "    <tr>\n",
       "      <th>PFK</th>\n",
       "      <td>0.574314</td>\n",
       "      <td>-2.220446e-16</td>\n",
       "    </tr>\n",
       "    <tr>\n",
       "      <th>...</th>\n",
       "      <td>...</td>\n",
       "      <td>...</td>\n",
       "    </tr>\n",
       "    <tr>\n",
       "      <th>Fumarate_exchange</th>\n",
       "      <td>0.000000</td>\n",
       "      <td>2.310763e-16</td>\n",
       "    </tr>\n",
       "    <tr>\n",
       "      <th>Glucose_exchange</th>\n",
       "      <td>0.000000</td>\n",
       "      <td>-8.559079e-01</td>\n",
       "    </tr>\n",
       "    <tr>\n",
       "      <th>O2_exchange</th>\n",
       "      <td>-2.752150</td>\n",
       "      <td>5.551115e-17</td>\n",
       "    </tr>\n",
       "    <tr>\n",
       "      <th>phosphate_exchange</th>\n",
       "      <td>-13.129131</td>\n",
       "      <td>-2.071909e-17</td>\n",
       "    </tr>\n",
       "    <tr>\n",
       "      <th>Biomass</th>\n",
       "      <td>0.427954</td>\n",
       "      <td>3.122502e-15</td>\n",
       "    </tr>\n",
       "  </tbody>\n",
       "</table>\n",
       "<p>58 rows × 2 columns</p>\n",
       "</div>"
      ],
      "text/plain": [
       "<Solution 0.428 at 0x171c9f90250>"
      ]
     },
     "execution_count": 172,
     "metadata": {},
     "output_type": "execute_result"
    }
   ],
   "source": [
    "Pathways.optimize()"
   ]
  },
  {
   "cell_type": "code",
   "execution_count": 173,
   "id": "7eb1c788",
   "metadata": {},
   "outputs": [],
   "source": [
    "value=Pathways.optimize()"
   ]
  },
  {
   "cell_type": "code",
   "execution_count": 174,
   "id": "98ded16a",
   "metadata": {},
   "outputs": [
    {
     "data": {
      "text/plain": [
       "GLUin                             1.000000e+00\n",
       "AMPin                             1.000000e+00\n",
       "HK                                1.000000e+00\n",
       "PGI                               9.122694e-01\n",
       "PFK                               5.743142e-01\n",
       "TPI                               5.743142e-01\n",
       "ALD                               5.743142e-01\n",
       "GAPDH                             8.623700e-01\n",
       "PGK                               8.623700e-01\n",
       "PGLM                              2.221509e-01\n",
       "ENO                               2.221509e-01\n",
       "PK                                0.000000e+00\n",
       "LDH                              -2.051568e+00\n",
       "AMPout                            1.000000e+00\n",
       "APK                               0.000000e+00\n",
       "PYRexchange                       0.000000e+00\n",
       "LACexchange                      -2.051568e+00\n",
       "ATPhydrolysis                     0.000000e+00\n",
       "NADHoxidation                     0.000000e+00\n",
       "Proton_exchange                   0.000000e+00\n",
       "water_exchange                   -5.349570e+00\n",
       "G6PDH                             0.000000e+00\n",
       "PGLase                            4.398196e-16\n",
       "GL6PHD                            0.000000e+00\n",
       "R5PE                             -3.076133e-01\n",
       "R5PI                              3.076133e-01\n",
       "TKI                              -7.656096e-02\n",
       "TKII                             -2.310523e-01\n",
       "TALA                             -7.656096e-02\n",
       "GSSGR                            -5.575341e+00\n",
       "GSHR                             -5.575341e+00\n",
       "CO2_Exchange                      1.072410e+00\n",
       "Pyruvate_dehydrogenase_complex    8.392605e-01\n",
       "ACK                               9.616152e-16\n",
       "PTAr                              9.616152e-16\n",
       "Citrate_synthase                 -7.646253e-01\n",
       "Aconitase                        -7.646253e-01\n",
       "Isocitrate_dehydrogenase         -7.646253e-01\n",
       "α_Ketoglutarate_dehydrogenase     9.977746e-01\n",
       "Succinyl_CoA_synthetase           9.977746e-01\n",
       "Succinate_dehydrogenase           0.000000e+00\n",
       "Fumarase                          0.000000e+00\n",
       "Malate_dehydrogenase              0.000000e+00\n",
       "Complex_I                         5.504301e+00\n",
       "Complex_II                       -1.110807e-15\n",
       "Complex_III                       5.504301e+00\n",
       "Complex_IV                        2.752150e+00\n",
       "Complex_V                        -1.375528e+01\n",
       "Inorganic_diphosphatase           0.000000e+00\n",
       "APP                              -1.155482e+01\n",
       "α_Ketoglutarate_exchange          0.000000e+00\n",
       "Succinate_exchange                9.977746e-01\n",
       "L_Malate_exchange                 0.000000e+00\n",
       "Fumarate_exchange                 0.000000e+00\n",
       "Glucose_exchange                  0.000000e+00\n",
       "O2_exchange                      -2.752150e+00\n",
       "phosphate_exchange               -1.312913e+01\n",
       "Biomass                           4.279540e-01\n",
       "Name: fluxes, dtype: float64"
      ]
     },
     "execution_count": 174,
     "metadata": {},
     "output_type": "execute_result"
    }
   ],
   "source": [
    "value.fluxes"
   ]
  },
  {
   "cell_type": "code",
   "execution_count": null,
   "id": "f9c36f84",
   "metadata": {},
   "outputs": [],
   "source": []
  },
  {
   "cell_type": "code",
   "execution_count": 175,
   "id": "568265f0",
   "metadata": {
    "scrolled": true
   },
   "outputs": [
    {
     "data": {
      "text/html": [
       "<h3>Objective</h3><p>1.0 Biomass = 0.4279539521547491</p><h4>Uptake</h4><table border=\"1\" class=\"dataframe\">\n",
       "  <thead>\n",
       "    <tr style=\"text-align: right;\">\n",
       "      <th>Metabolite</th>\n",
       "      <th>Reaction</th>\n",
       "      <th>Flux</th>\n",
       "      <th>C-Number</th>\n",
       "      <th>C-Flux</th>\n",
       "    </tr>\n",
       "  </thead>\n",
       "  <tbody>\n",
       "    <tr>\n",
       "      <td>AMP</td>\n",
       "      <td>AMPin</td>\n",
       "      <td>1</td>\n",
       "      <td>10</td>\n",
       "      <td>42.85%</td>\n",
       "    </tr>\n",
       "    <tr>\n",
       "      <td>GLUc</td>\n",
       "      <td>GLUin</td>\n",
       "      <td>1</td>\n",
       "      <td>6</td>\n",
       "      <td>25.71%</td>\n",
       "    </tr>\n",
       "    <tr>\n",
       "      <td>LAC</td>\n",
       "      <td>LACexchange</td>\n",
       "      <td>2.445</td>\n",
       "      <td>3</td>\n",
       "      <td>31.43%</td>\n",
       "    </tr>\n",
       "    <tr>\n",
       "      <td>O2</td>\n",
       "      <td>O2_exchange</td>\n",
       "      <td>3.932</td>\n",
       "      <td>0</td>\n",
       "      <td>0.00%</td>\n",
       "    </tr>\n",
       "    <tr>\n",
       "      <td>PI</td>\n",
       "      <td>phosphate_exchange</td>\n",
       "      <td>8.96</td>\n",
       "      <td>0</td>\n",
       "      <td>0.00%</td>\n",
       "    </tr>\n",
       "  </tbody>\n",
       "</table><h4>Secretion</h4><table border=\"1\" class=\"dataframe\">\n",
       "  <thead>\n",
       "    <tr style=\"text-align: right;\">\n",
       "      <th>Metabolite</th>\n",
       "      <th>Reaction</th>\n",
       "      <th>Flux</th>\n",
       "      <th>C-Number</th>\n",
       "      <th>C-Flux</th>\n",
       "    </tr>\n",
       "  </thead>\n",
       "  <tbody>\n",
       "    <tr>\n",
       "      <td>AMP</td>\n",
       "      <td>AMPout</td>\n",
       "      <td>-1</td>\n",
       "      <td>10</td>\n",
       "      <td>61.56%</td>\n",
       "    </tr>\n",
       "    <tr>\n",
       "      <td>CO2</td>\n",
       "      <td>CO2_Exchange</td>\n",
       "      <td>-2.252</td>\n",
       "      <td>1</td>\n",
       "      <td>13.87%</td>\n",
       "    </tr>\n",
       "    <tr>\n",
       "      <td>Succinate</td>\n",
       "      <td>Succinate_exchange</td>\n",
       "      <td>-0.9978</td>\n",
       "      <td>4</td>\n",
       "      <td>24.57%</td>\n",
       "    </tr>\n",
       "  </tbody>\n",
       "</table>"
      ],
      "text/plain": [
       "<cobra.summary.model_summary.ModelSummary at 0x171c9fcdc10>"
      ]
     },
     "execution_count": 175,
     "metadata": {},
     "output_type": "execute_result"
    }
   ],
   "source": [
    "Pathways.summary()"
   ]
  },
  {
   "cell_type": "code",
   "execution_count": 176,
   "id": "c21d8dfe",
   "metadata": {},
   "outputs": [],
   "source": [
    "import escher"
   ]
  },
  {
   "cell_type": "code",
   "execution_count": 177,
   "id": "9628c1aa",
   "metadata": {},
   "outputs": [],
   "source": [
    "from escher import Builder"
   ]
  },
  {
   "cell_type": "code",
   "execution_count": 178,
   "id": "627247fd",
   "metadata": {},
   "outputs": [],
   "source": [
    "cobra.io.save_json_model(Pathways,\"Pathways.json\")"
   ]
  },
  {
   "cell_type": "code",
   "execution_count": 179,
   "id": "0f9a41b7",
   "metadata": {},
   "outputs": [],
   "source": [
    "Pathways_builder = Builder(model_json=\"Pathways.json\")"
   ]
  },
  {
   "cell_type": "code",
   "execution_count": 180,
   "id": "c8e20c86",
   "metadata": {},
   "outputs": [],
   "source": [
    "Pathways_builder.reaction_data=value.fluxes"
   ]
  },
  {
   "cell_type": "code",
   "execution_count": 181,
   "id": "62929aa9",
   "metadata": {},
   "outputs": [
    {
     "data": {
      "application/vnd.jupyter.widget-view+json": {
       "model_id": "5535911e1d5847788dd1eb7d24a067ef",
       "version_major": 2,
       "version_minor": 0
      },
      "text/plain": [
       "Builder(reaction_data={'GLUin': 1.0, 'AMPin': 1.0, 'HK': 1.0, 'PGI': 0.9122694398082775, 'PFK': 0.574314203791…"
      ]
     },
     "metadata": {},
     "output_type": "display_data"
    }
   ],
   "source": [
    "Pathways_builder"
   ]
  },
  {
   "cell_type": "markdown",
   "id": "78499aa5",
   "metadata": {},
   "source": [
    "# \n"
   ]
  }
 ],
 "metadata": {
  "kernelspec": {
   "display_name": "Python 3 (ipykernel)",
   "language": "python",
   "name": "python3"
  },
  "language_info": {
   "codemirror_mode": {
    "name": "ipython",
    "version": 3
   },
   "file_extension": ".py",
   "mimetype": "text/x-python",
   "name": "python",
   "nbconvert_exporter": "python",
   "pygments_lexer": "ipython3",
   "version": "3.9.7"
  }
 },
 "nbformat": 4,
 "nbformat_minor": 5
}
