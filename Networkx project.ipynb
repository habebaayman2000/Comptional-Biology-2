{
 "cells": [
  {
   "cell_type": "code",
   "execution_count": 1,
   "metadata": {
    "ExecuteTime": {
     "end_time": "2022-06-06T09:30:38.081085Z",
     "start_time": "2022-06-06T09:30:01.417201Z"
    }
   },
   "outputs": [],
   "source": [
    "import networkx as nx\n",
    "import pandas as pd\n",
    "import matplotlib.pyplot as plt"
   ]
  },
  {
   "cell_type": "code",
   "execution_count": 49,
   "metadata": {
    "ExecuteTime": {
     "end_time": "2022-06-06T16:14:11.754676Z",
     "start_time": "2022-06-06T16:14:11.723830Z"
    }
   },
   "outputs": [],
   "source": [
    "df=pd.read_csv(\"DrosophilaMelanogaster_lcc_hq.txt\",sep=\"\\t\",usecols=[\"Uniprot_A\",\"Uniprot_B\"])"
   ]
  },
  {
   "cell_type": "code",
   "execution_count": 50,
   "metadata": {
    "ExecuteTime": {
     "end_time": "2022-06-06T16:14:12.837028Z",
     "start_time": "2022-06-06T16:14:12.828052Z"
    }
   },
   "outputs": [
    {
     "data": {
      "text/html": [
       "<div>\n",
       "<style scoped>\n",
       "    .dataframe tbody tr th:only-of-type {\n",
       "        vertical-align: middle;\n",
       "    }\n",
       "\n",
       "    .dataframe tbody tr th {\n",
       "        vertical-align: top;\n",
       "    }\n",
       "\n",
       "    .dataframe thead th {\n",
       "        text-align: right;\n",
       "    }\n",
       "</style>\n",
       "<table border=\"1\" class=\"dataframe\">\n",
       "  <thead>\n",
       "    <tr style=\"text-align: right;\">\n",
       "      <th></th>\n",
       "      <th>Uniprot_A</th>\n",
       "      <th>Uniprot_B</th>\n",
       "    </tr>\n",
       "  </thead>\n",
       "  <tbody>\n",
       "    <tr>\n",
       "      <th>0</th>\n",
       "      <td>A0A0B4JD97</td>\n",
       "      <td>P18431</td>\n",
       "    </tr>\n",
       "    <tr>\n",
       "      <th>1</th>\n",
       "      <td>A0A0B4JD97</td>\n",
       "      <td>Q9VEZ3</td>\n",
       "    </tr>\n",
       "    <tr>\n",
       "      <th>2</th>\n",
       "      <td>A0A0B4JDC9</td>\n",
       "      <td>P91645</td>\n",
       "    </tr>\n",
       "    <tr>\n",
       "      <th>3</th>\n",
       "      <td>A0A0B4JDC9</td>\n",
       "      <td>Q9W0K0</td>\n",
       "    </tr>\n",
       "    <tr>\n",
       "      <th>4</th>\n",
       "      <td>A0A0B4JDD0</td>\n",
       "      <td>E1JHT6</td>\n",
       "    </tr>\n",
       "  </tbody>\n",
       "</table>\n",
       "</div>"
      ],
      "text/plain": [
       "    Uniprot_A Uniprot_B\n",
       "0  A0A0B4JD97    P18431\n",
       "1  A0A0B4JD97    Q9VEZ3\n",
       "2  A0A0B4JDC9    P91645\n",
       "3  A0A0B4JDC9    Q9W0K0\n",
       "4  A0A0B4JDD0    E1JHT6"
      ]
     },
     "execution_count": 50,
     "metadata": {},
     "output_type": "execute_result"
    }
   ],
   "source": [
    "df.head()"
   ]
  },
  {
   "cell_type": "code",
   "execution_count": 51,
   "metadata": {
    "ExecuteTime": {
     "end_time": "2022-06-06T16:14:14.826596Z",
     "start_time": "2022-06-06T16:14:14.812630Z"
    }
   },
   "outputs": [],
   "source": [
    "G=nx.from_pandas_edgelist(df,\"Uniprot_A\",\"Uniprot_B\",create_using=nx.DiGraph())\n"
   ]
  },
  {
   "cell_type": "code",
   "execution_count": 52,
   "metadata": {
    "ExecuteTime": {
     "end_time": "2022-06-06T16:14:16.004554Z",
     "start_time": "2022-06-06T16:14:15.999541Z"
    }
   },
   "outputs": [
    {
     "name": "stdout",
     "output_type": "stream",
     "text": [
      "DiGraph with 1825 nodes and 2652 edges\n"
     ]
    }
   ],
   "source": [
    "print(G)"
   ]
  },
  {
   "cell_type": "code",
   "execution_count": 5,
   "metadata": {
    "ExecuteTime": {
     "end_time": "2022-06-06T09:35:28.115803Z",
     "start_time": "2022-06-06T09:34:56.792868Z"
    },
    "scrolled": true
   },
   "outputs": [
    {
     "data": {
      "image/png": "[encoded data removed]",
      "text/plain": [
       "<Figure size 432x288 with 1 Axes>"
      ]
     },
     "metadata": {
      "needs_background": "light"
     },
     "output_type": "display_data"
    }
   ],
   "source": [
    "degrees=dict(G.degree())\n",
    "order=sorted(degrees.items(),key=lambda t:t[1])\n",
    "x,y=zip(*order)\n",
    "plt.plot(x,y)\n",
    "plt.show()"
   ]
  },
  {
   "cell_type": "code",
   "execution_count": 53,
   "metadata": {
    "ExecuteTime": {
     "end_time": "2022-06-06T16:14:17.740041Z",
     "start_time": "2022-06-06T16:14:17.727028Z"
    }
   },
   "outputs": [
    {
     "name": "stdout",
     "output_type": "stream",
     "text": [
      "[('A0A0B4JD97', 2), ('P18431', 101), ('Q9VEZ3', 2), ('A0A0B4JDC9', 2), ('P91645', 1), ('Q9W0K0', 6), ('A0A0B4JDD0', 1), ('E1JHT6', 121), ('A0A0B4K620', 2), ('P34082', 197), ('A0A0B4K657', 1), ('A0A0B4K682', 2), ('Q9V9Y9', 3), ('A0A0B4K6M2', 1), ('A0A0B4K6N4', 1), ('Q7KTJ7', 1), ('A0A0B4K6W9', 1), ('P25158', 10), ('A0A0B4K765', 6), ('Q94517', 18), ('Q9VMJ7', 7), ('Q9VQ58', 1), ('Q9VWG2', 1), ('Q9VYI2', 1), ('Q9W410', 3), ('A0A0B4K774', 4), ('F2FB81', 5), ('P55162', 3), ('Q8MLQ0', 4), ('Q9VAT0', 6), ('A0A0B4K7J2', 3), ('Q9U1H9', 5), ('Q9V3H8', 5), ('A0A0B4K7J3', 5), ('A0A0B4KG59', 2), ('P07713', 6), ('P27091', 2), ('Q5U110', 2), ('Q9VMT1', 6), ('A0A0B4K7J4', 1), ('Q7KT06', 2), ('A0A0B4K7L3', 2), ('A0A0B4K7N1', 1), ('X2J8L2', 1), ('A0A0B4K7Q6', 3), ('Q9VKB2', 1), ('Q9XYM0', 1), ('A0A0B4K823', 6), ('P24014', 4), ('Q24568', 1), ('Q9NFU0', 14), ('Q9VPU1', 6), ('A0A0B4KEN4', 6), ('A1Z6W3', 7), ('P31007', 10), ('P51140', 7), ('Q7JUF2', 2), ('A0A0B4KER0', 4), ('A8JRE3', 3), ('Q9VCU6', 7), ('Q9VWD9', 7), ('A0A0B4KF19', 1), ('A0A0B4KF25', 6), ('A0A0B4LHU7', 5), ('E2QD16', 7), ('O02193', 10), ('Q9V3J8', 15), ('Q9VGA4', 7), ('Q9VZJ3', 5), ('A0A0B4KFC0', 2), ('O46036', 8), ('A0A0B4KFD1', 1), ('A0A0B4KFP5', 1), ('A0A0B4KFR5', 2), ('A0A0B4KFZ1', 1), ('A0A0B4KG38', 3), ('Q9V4A7', 4), ('A0A0B4KG50', 1), ('A0A0B4KG66', 1), ('Q95S25', 4), ('A0A0B4KG69', 2), ('A0A0B4KG70', 3), ('A0A0B4KGZ0', 4), ('Q24572', 29), ('A0A0B4KGE5', 1), ('P42282', 9), ('A0A0B4KGG5', 1), ('O18335', 8), ('A0A0B4KGL0', 3), ('M9NFI9', 1), ('Q9NGK5', 1), ('Q9V9S7', 1), ('A0A0B4KGM5', 1), ('A0A0B4KGP1', 1), ('P05205', 27), ('A0A0B4KGS4', 2), ('P40792', 4), ('Q7KRY7', 3), ('A0A0B4KGW6', 1), ('Q7KVG9', 4), ('O97159', 9), ('A0A0B4KH64', 1), ('Q9VHS8', 3), ('A0A0B4KHF0', 1), ('A0A0B4KI27', 1), ('A0A0B4KHI4', 4), ('M9MRJ4', 2), ('P42287', 3), ('A0A0B4KHJ4', 2), ('P48462', 47), ('Q24322', 99), ('A0A0B4KHK1', 13), ('A1ZAY1', 4), ('O77430', 7), ('O97143', 6), ('P07663', 10), ('P19538', 11), ('Q07436', 5), ('Q24311', 5), ('Q27403', 1), ('Q8INB9', 1), ('Q8INL2', 2), ('Q9V3B8', 3), ('Q9VMS4', 2), ('Q9W5E1', 4), ('A0A0B4KHT3', 1), ('Q9V3I2', 6), ('A0A0B4KI34', 1), ('A0A0B4LEZ3', 6), ('Q27571', 7), ('Q7K126', 2), ('Q8IMX1', 5), ('Q8SY33', 6), ('Q94547', 3), ('X2JCC3', 3), ('A0A0B4LGN7', 3), ('A4IJ70', 8), ('Q9VAR6', 5), ('Q9VLF0', 5), ('A0A0B4LH08', 3), ('A0A0B4LIC4', 1), ('A0A0C4DHF6', 1), ('Q9VDW6', 2), ('A0A0C4DHN4', 1), ('B7Z153', 6), ('A1Z6E0', 1), ('P09052', 3), ('A1Z6H9', 2), ('A8JNC7', 2), ('Q9VDD5', 18), ('A1Z6I7', 1), ('Q24044', 3), ('A1Z6M0', 1), ('P25439', 14), ('A1Z6P3', 2), ('A1Z9J3', 3), ('Q9VJE5', 4), ('Q24292', 3), ('Q24533', 6), ('A1Z6W6', 1), ('A1Z6Z8', 8), ('A1Z7S3', 1), ('P54357', 2), ('P62152', 9), ('A1Z7A6', 2), ('A1Z7K9', 1), ('Q95RR8', 2), ('A1Z7L1', 1), ('A1Z7L8', 1), ('A1Z7N6', 1), ('Q8IQK4', 2), ('A1Z7P5', 2), ('Q32KD2', 3), ('Q9VKM1', 11), ('A1Z802', 1), ('Q7K0L8', 1), ('A1Z847', 1), ('A1Z898', 4), ('P02299', 11), ('Q9V464', 5), ('Q9W3D1', 4), ('A1Z8I0', 1), ('Q8IRE3', 2), ('A1Z8P9', 2), ('A1Z8R2', 2), ('A1Z8S6', 2), ('Q9W157', 2), ('A1Z8U0', 3), ('Q9VAX8', 2), ('Q9VUV9', 3), ('Q9W032', 4), ('A1Z8W8', 1), ('O18332', 4), ('A1Z913', 2), ('A1Z916', 2), ('Q9VRF3', 2), ('A1Z987', 1), ('P91663', 3), ('A1Z9C4', 1), ('A1Z9D7', 1), ('Q9V407', 3), ('A1Z9E2', 8), ('P04197', 8), ('Q24472', 9), ('Q7K159', 7), ('Q9VF04', 7), ('Q9W482', 4), ('Q9W542', 8), ('A1Z9G2', 4), ('P39736', 1), ('Q7KLW9', 2), ('Q95RB1', 1), ('Q9VHV6', 1), ('A1Z9I5', 1), ('Q9VZF5', 2), ('A1ZAU8', 1), ('A1Z9P3', 3), ('Q9VXE3', 2), ('A1Z9S6', 3), ('A1Z9W4', 1), ('A1Z9X0', 7), ('A1ZBL9', 2), ('O45116', 8), ('O97111', 7), ('P08111', 2), ('P16554', 8), ('P23696', 7), ('Q0KHR3', 12), ('A1Z9X4', 2), ('O97174', 3), ('Q08180', 3), ('A1ZA47', 1), ('P18091', 1), ('A1ZAC4', 3), ('Q7PLK0', 3), ('A1ZAD3', 1), ('A1ZAH3', 2), ('A1ZAK1', 1), ('A1ZAK8', 4), ('O18683', 13), ('P17133', 2), ('Q32KD4', 8), ('Q9VEC1', 13), ('A1ZAP8', 1), ('A1ZAQ4', 1), ('A1ZAV3', 2), ('A1ZAW0', 7), ('P04052', 5), ('P08953', 6), ('Q9VJY9', 5), ('Q9VLW8', 1), ('Q9VUQ5', 9), ('A1ZAX1', 2), ('P33450', 6), ('A1ZAZ8', 1), ('A1ZB15', 3), ('A1ZB86', 1), ('A1ZBH7', 1), ('Q7K519', 1), ('A1ZBJ6', 1), ('A1ZBW7', 1), ('Q7JW27', 7), ('Q8SWT7', 2), ('Q9VKX8', 3), ('Q9W0L9', 2), ('Q9W3N2', 1), ('X2J8X8', 5), ('A8DY77', 3), ('Q0E9B7', 1), ('A8DYA3', 1), ('Q24368', 10), ('A8DYH1', 1), ('Q9W363', 1), ('A8DYL3', 1), ('A8DYL7', 1), ('Q9W1K4', 14), ('A8DYP0', 1), ('A8DYV5', 3), ('Q45VV3', 17), ('A8DZ19', 1), ('Q95RG8', 1), ('A8DZ27', 3), ('Q9VMN6', 7), ('Q9VMN9', 8), ('A8DZ29', 4), ('P21187', 10), ('P48598', 10), ('Q9VSG1', 2), ('A8JNJ6', 3), ('P13395', 3), ('A8JNK1', 1), ('A8JNK4', 3), ('P40793', 8), ('A8JNW3', 1), ('A8JUV7', 1), ('Q02936', 6), ('B5A5T4', 2), ('P08510', 2), ('Q9W3G6', 1), ('B7TB45', 1), ('Q7KIN0', 2), ('B7YZF2', 2), ('B7YZF8', 1), ('B7YZK8', 2), ('B7YZT7', 1), ('B7YZX6', 1), ('B7Z002', 1), ('B7Z0E2', 2), ('P19339', 11), ('P50534', 8), ('B7Z0L8', 1), ('Q9VTZ2', 2), ('B7Z0W0', 3), ('P48554', 1), ('Q8MRE6', 3), ('Q9VFD9', 2), ('Q9VY33', 2), ('C0HKQ7', 1), ('P47980', 1), ('C0HL67', 1), ('C0MJ66', 4), ('P20439', 3), ('Q24152', 2), ('Q9I7I0', 2), ('Q9VHN1', 2), ('C8VV67', 1), ('P35875', 4), ('D3DML3', 8), ('P36179', 3), ('Q23977', 2), ('Q7K0E3', 3), ('Q8IRD5', 3), ('Q8T0S6', 13), ('Q9VM65', 4), ('E1JH25', 1), ('E1JHB7', 4), ('P91634', 5), ('Q08012', 10), ('Q9V3C8', 2), ('E1JJ52', 1), ('M9NDE3', 1), ('M9PCD4', 2), ('M9PF20', 4), ('M9PI41', 2), ('O46112', 3), ('O46307', 1), ('O61307', 4), ('O62619', 2), ('P00334', 2), ('P12982', 4), ('P13709', 2), ('P24156', 1), ('P28668', 2), ('P29613', 1), ('P35820', 11), ('P45594', 2), ('P46867', 4), ('P48610', 1), ('P54733', 3), ('P91927', 1), ('Q08473', 10), ('Q27415', 5), ('Q4V5M2', 1), ('Q7JY07', 1), ('Q7K3L1', 2), ('Q7K3V6', 1), ('Q7K4B2', 1), ('Q7KA66', 1), ('Q7KMM5', 1), ('Q86P04', 1), ('Q8IMW9', 1), ('Q8IN06', 1), ('Q8INP9', 1), ('Q8IPY3', 1), ('Q8IQW4', 1), ('Q8MLV8', 1), ('Q8MS56', 1), ('Q8MSM9', 1), ('Q8T0R3', 1), ('Q95TU2', 2), ('Q9U1H0', 2), ('Q9V3E3', 1), ('Q9V3J1', 2), ('Q9V3P0', 2), ('Q9V496', 2), ('Q9V4E5', 1), ('Q9V7A7', 1), ('Q9V9K7', 2), ('Q9VAN8', 1), ('Q9VB53', 1), ('Q9VCE2', 3), ('Q9VD46', 1), ('Q9VDC1', 1), ('Q9VEB1', 3), ('Q9VFC1', 1), ('Q9VGS2', 2), ('Q9VGW6', 9), ('Q9VGW9', 1), ('Q9VHY2', 1), ('Q9VIP4', 1), ('Q9VIZ2', 1), ('Q9VJC3', 2), ('Q9VL01', 1), ('Q9VL52', 2), ('Q9VL72', 2), ('Q9VM77', 1), ('Q9VN44', 1), ('Q9VNE0', 4), ('Q9VQ27', 1), ('Q9VQI9', 1), ('Q9VSE2', 1), ('Q9VTS3', 3), ('Q9VTZ4', 1), ('Q9VU41', 1), ('Q9VUB5', 3), ('Q9VUL6', 1), ('Q9VWC0', 2), ('Q9VX63', 1), ('Q9VX80', 1), ('Q9VXE0', 2), ('Q9VZT7', 1), ('Q9VZX7', 1), ('Q9W0S7', 3), ('Q9W1N6', 1), ('Q9W2H2', 2), ('Q9W2H8', 1), ('Q9W2S2', 2), ('Q9W303', 1), ('Q9W362', 2), ('Q9W3J1', 1), ('Q9W3W6', 4), ('Q9W423', 1), ('Q9W4T4', 2), ('Q9W511', 1), ('Q9XTL9', 2), ('X2JDY8', 3), ('E1JIM6', 1), ('O15945', 5), ('E1JIV5', 1), ('Q7KQM6', 2), ('E1JJR3', 1), ('Q9W1H5', 5), ('E2QCS8', 1), ('Q9VNI8', 5), ('Q86BS3', 4), ('E2QD98', 5), ('P10040', 6), ('Q9NB04', 3), ('Q9VF87', 4), ('Q9VU84', 1), ('F3YDF1', 1), ('F3YDG4', 1), ('P50445', 2), ('H9XVP2', 3), ('M9MRJ1', 1), ('M9PGK7', 1), ('M9MRV7', 1), ('M9MS40', 2), ('P20659', 2), ('M9MSL4', 1), ('Q9VI72', 10), ('M9ND00', 3), ('P27619', 3), ('Q5U0V7', 3), ('Q9W111', 4), ('M9ND53', 1), ('M9ND89', 2), ('Q9VZ20', 2), ('M9NDS9', 2), ('M9NE35', 2), ('Q24592', 3), ('Q9VWE0', 7), ('M9NE38', 1), ('M9NEB2', 1), ('M9NF14', 2), ('Q9VWW4', 2), ('M9NFF9', 3), ('Q7KSD8', 12), ('Q9VBX2', 15), ('Q9VJ73', 14), ('M9PBE1', 1), ('M9PBJ1', 3), ('M9PC46', 3), ('Q9W213', 8), ('P16621', 8), ('M9PCE3', 1), ('M9PCP3', 1), ('M9PDE6', 1), ('M9PDM4', 1), ('M9PE71', 1), ('Q24547', 9), ('M9PEA2', 1), ('M9PEM1', 3), ('Q24314', 2), ('Q7JYX5', 4), ('Q9W1I8', 13), ('M9PEP9', 1), ('M9PER1', 1), ('P14199', 3), ('P23128', 10), ('Q9VMA3', 7), ('M9PF79', 3), ('Q0E8J0', 4), ('M9PFG6', 1), ('M9PFR8', 1), ('M9PG80', 1), ('Q6J5K9', 6), ('M9PGI6', 2), ('Q24509', 2), ('M9PGZ8', 1), ('M9PH32', 5), ('P22745', 5), ('P25822', 4), ('M9PH36', 1), ('M9PHT1', 3), ('M9PHU0', 1), ('M9PHZ1', 12), ('Q8I8U9', 11), ('Q8I8V0', 19), ('Q9V444', 14), ('Q9V4C8', 10), ('Q9VLL1', 11), ('Q9VM59', 9), ('Q9VTZ1', 17), ('Q9W2I4', 13), ('M9PI02', 1), ('M9PI14', 1), ('Q9VDQ7', 1), ('M9PIC9', 1), ('Q9VHP9', 10), ('O01382', 1), ('Q24306', 11), ('O02002', 1), ('P24785', 6), ('P50535', 7), ('P50536', 10), ('O02194', 1), ('Q9VQG2', 3), ('O15943', 5), ('P18824', 11), ('P05709', 1), ('Q24119', 1), ('Q24167', 1), ('Q9VBH3', 1), ('O16810', 6), ('Q24168', 7), ('Q24169', 6), ('Q7K2L1', 6), ('Q9VSM9', 6), ('Q9W102', 6), ('Q9Y1B2', 8), ('O16844', 8), ('P12370', 4), ('P23647', 5), ('P54367', 1), ('P91682', 14), ('Q9VG38', 3), ('O17144', 1), ('Q24216', 3), ('O17432', 1), ('O96433', 1), ('O17445', 1), ('P09208', 8), ('O17468', 3), ('Q08605', 10), ('Q9VAD6', 2), ('Q9VLP3', 1), ('Q9VQ93', 2), ('O18333', 4), ('Q9VEA2', 1), ('Q9VGE4', 1), ('Q9VHG1', 1), ('Q9VXU2', 1), ('O18334', 2), ('P16568', 6), ('Q7K4K7', 2), ('Q9VLB7', 4), ('Q9VQQ9', 2), ('Q9VWS3', 1), ('O18381', 2), ('Q8IP19', 2), ('Q9VBW6', 3), ('O18388', 1), ('Q9V455', 2), ('P29310', 11), ('P29349', 2), ('Q04047', 1), ('Q494K2', 1), ('Q94920', 1), ('Q9VT01', 1), ('Q9XTN2', 6), ('O44226', 1), ('Q7JWD6', 1), ('O44342', 2), ('O44381', 2), ('Q9VBA5', 1), ('O44437', 1), ('P43332', 9), ('O44783', 1), ('P25159', 7), ('P29617', 2), ('Q01989', 4), ('Q8MQJ9', 3), ('P08044', 1), ('P10734', 1), ('P16371', 15), ('Q02308', 5), ('Q9XTN4', 2), ('O46048', 2), ('O46094', 1), ('Q9VMI6', 1), ('O46173', 2), ('O46308', 2), ('P42570', 1), ('Q9VUI0', 1), ('O46339', 2), ('P22265', 1), ('P40427', 5), ('Q9VEN1', 1), ('Q9VYN8', 1), ('O61443', 1), ('P49071', 1), ('O61444', 1), ('P92208', 1), ('O61734', 2), ('O61735', 7), ('Q8SWR8', 8), ('O76324', 5), ('P49021', 8), ('O62530', 1), ('Q9U485', 4), ('O62609', 2), ('P42003', 8), ('Q00G30', 2), ('P25823', 5), ('Q9VDE4', 1), ('O76742', 1), ('O76899', 1), ('O76922', 15), ('P02828', 3), ('P47938', 1), ('Q01820', 1), ('Q02748', 3), ('Q23972', 5), ('Q9VQ91', 2), ('O76932', 2), ('Q9VJZ5', 2), ('Q9W2U4', 1), ('O77051', 3), ('O77059', 4), ('Q24008', 9), ('Q9VMY0', 2), ('O77086', 1), ('O77237', 1), ('Q05652', 5), ('Q7YZ95', 1), ('Q9V6L9', 2), ('Q9Y165', 2), ('O77460', 2), ('Q9W0T1', 5), ('O96533', 1), ('O96561', 1), ('O96651', 2), ('Q9VUH8', 2), ('O96660', 1), ('O96689', 6), ('Q9VCD8', 4), ('Q9VJL5', 2), ('Q9VM62', 5), ('Q9VXE9', 3), ('Q9W1G7', 8), ('O96880', 1), ('O96881', 1), ('O96989', 10), ('P49735', 5), ('Q26454', 6), ('Q9V461', 6), ('Q9VBI1', 5), ('Q9VQY9', 5), ('Q9W0I7', 5), ('Q9W2V7', 6), ('Q9XYU0', 4), ('Q9XYU1', 10), ('O97102', 1), ('Q7KNM2', 2), ('P15357', 4), ('Q9VNE4', 6), ('P34021', 7), ('Q0E9F2', 1), ('Q9VTS9', 1), ('Q9VAC1', 2), ('P00522', 5), ('Q8T4F7', 5), ('Q94538', 1), ('P00528', 1), ('Q27324', 3), ('P02255', 2), ('P45975', 3), ('P02283', 2), ('P84051', 5), ('P26017', 14), ('Q7JXA8', 3), ('Q9V9W8', 3), ('Q9VK33', 8), ('P02515', 1), ('Q7JVW5', 3), ('P02516', 2), ('P02517', 3), ('Q8IH92', 5), ('P02572', 1), ('P02825', 1), ('Q9VYX1', 17), ('Q9VPN5', 2), ('P02835', 2), ('P33244', 1), ('P02836', 1), ('P92204', 2), ('P04388', 1), ('P11346', 4), ('P04412', 9), ('Q01083', 2), ('Q8IR23', 1), ('Q9NHV9', 1), ('Q9VK54', 3), ('Q9VSK2', 2), ('P48810', 3), ('Q05344', 7), ('Q24151', 3), ('Q86CW5', 2), ('Q8MLV3', 1), ('Q95RV2', 2), ('Q95RV3', 2), ('Q9GQN5', 1), ('Q9V333', 1), ('Q9VIE6', 1), ('Q9VTE2', 1), ('Q9VW97', 2), ('Q9VYY7', 2), ('Q9W396', 3), ('P05661', 3), ('P35554', 1), ('P06002', 3), ('P19107', 1), ('Q9VAL7', 1), ('P07207', 15), ('P15330', 10), ('P18168', 2), ('P21520', 2), ('P28159', 6), ('P98081', 3), ('Q8IMI5', 2), ('Q9V6X7', 1), ('Q9VN82', 3), ('Q9W0L0', 1), ('Q9Y0H4', 2), ('P07548', 1), ('P08181', 4), ('Q9W4M7', 4), ('P07664', 1), ('Q7JN06', 4), ('P07666', 1), ('P07668', 3), ('Q9VRK9', 3), ('Q9VZ07', 3), ('P54631', 2), ('Q24025', 4), ('Q24114', 1), ('Q9VMV5', 3), ('P07764', 2), ('Q9VIE8', 2), ('P07909', 3), ('Q24298', 5), ('P08182', 2), ('Q8T0D3', 2), ('P08646', 1), ('P08879', 1), ('Q9V3C1', 2), ('P08928', 3), ('P20240', 1), ('P48607', 3), ('Q7K105', 3), ('Q9VYS4', 1), ('P08970', 4), ('Q24478', 17), ('Q86B87', 6), ('Q9V474', 1), ('Q9VPB0', 3), ('P08985', 1), ('P09077', 1), ('P09081', 3), ('P09087', 1), ('Q24117', 10), ('P09615', 6), ('P18537', 2), ('Q95ST2', 1), ('Q9VUG1', 3), ('Q9VVX3', 3), ('Q9VWV9', 1), ('Q9W4K0', 1), ('P09956', 3), ('P39769', 8), ('P0CG69', 4), ('Q7YU24', 3), ('Q960X8', 2), ('Q9VXF9', 2), ('Q9VFU8', 1), ('P10084', 3), ('P11420', 3), ('P13097', 3), ('P18491', 1), ('P10333', 2), ('P10351', 1), ('P10383', 1), ('P10627', 2), ('Q9VC03', 1), ('P10987', 2), ('Q9U1K1', 2), ('P11147', 1), ('Q24133', 2), ('Q24171', 2), ('Q7KNQ9', 2), ('P48987', 1), ('P11584', 2), ('Q24247', 1), ('Q9VPQ2', 1), ('P11596', 1), ('P81900', 1), ('P12613', 1), ('Q9VND8', 3), ('P12881', 1), ('Q7K148', 9), ('Q9VEK8', 3), ('Q9XZ34', 1), ('P13002', 1), ('Q9VB08', 7), ('P13098', 1), ('P13217', 2), ('P19334', 6), ('P13368', 1), ('Q00963', 1), ('Q8MSS1', 4), ('P13469', 1), ('Q9V6Q2', 8), ('P13496', 5), ('P37276', 4), ('P45889', 1), ('Q24246', 7), ('Q7K2D2', 2), ('P13607', 1), ('Q24048', 1), ('P13677', 2), ('Q7KSF5', 1), ('P14599', 2), ('X2JE74', 1), ('P14785', 3), ('P23572', 5), ('P22812', 3), ('P29503', 3), ('Q03017', 3), ('Q94527', 9), ('Q9VUX2', 1), ('P55035', 2), ('P15364', 3), ('P23654', 1), ('P16241', 1), ('P24350', 1), ('P22808', 1), ('Q01071', 1), ('Q7KUL4', 1), ('Q8IMA8', 3), ('Q95RW8', 1), ('Q9VWX6', 1), ('P16378', 1), ('Q9VB22', 6), ('P91926', 3), ('P29742', 2), ('Q9VM50', 9), ('P49415', 1), ('P16914', 3), ('Q24312', 1), ('P17210', 7), ('P46824', 2), ('P49455', 4), ('Q960V3', 1), ('Q9W525', 1), ('P17917', 1), ('P18053', 1), ('P18171', 1), ('P18289', 2), ('P21525', 1), ('P26686', 1), ('P49762', 1), ('P51123', 10), ('P51592', 2), ('P83101', 1), ('Q07553', 1), ('Q1W9P9', 1), ('Q400N2', 4), ('Q7JQ32', 1), ('Q7KMH5', 1), ('Q7KN75', 1), ('Q7KT60', 1), ('Q7KTW3', 1), ('Q8I8U7', 8), ('Q8IMJ2', 2), ('Q8SY39', 1), ('Q95TN8', 1), ('Q9NGC3', 1), ('Q9NIV1', 1), ('Q9V491', 4), ('Q9V9T4', 3), ('Q9VAH7', 1), ('Q9VAV5', 3), ('Q9VBJ2', 1), ('Q9VBP3', 1), ('Q9VBX1', 1), ('Q9VC96', 2), ('Q9VCM6', 1), ('Q9VGK1', 1), ('Q9VGN4', 1), ('Q9VHD0', 1), ('Q9VIC7', 2), ('Q9VIU5', 1), ('Q9VJ35', 2), ('Q9VJC4', 1), ('Q9VJC6', 1), ('Q9VLT5', 3), ('Q9VM75', 1), ('Q9VN25', 2), ('Q9VNV2', 1), ('Q9VNV3', 1), ('Q9VPI9', 2), ('Q9VQQ4', 1), ('Q9VRG5', 1), ('Q9VRV9', 1), ('Q9VSK6', 1), ('Q9VSL8', 1), ('Q9VU27', 1), ('Q9VU76', 1), ('Q9VUQ9', 2), ('Q9VVE2', 1), ('Q9VVK2', 1), ('Q9VWD4', 1), ('Q9VWN4', 5), ('Q9VXW2', 2), ('Q9VZ30', 2), ('Q9VZ77', 3), ('Q9W1S3', 1), ('Q9W3E1', 1), ('Q9W3G3', 1), ('Q9W4G6', 2), ('Q9W4Y3', 2), ('X2JE77', 1), ('P18489', 2), ('P18490', 1), ('P18502', 7), ('Q9V853', 3), ('Q9VM64', 4), ('Q9VVI3', 3), ('P35220', 3), ('Q23978', 1), ('Q24206', 1), ('Q961D9', 2), ('Q9Y1T2', 4), ('P19109', 4), ('Q9XZ56', 4), ('Q9VZQ1', 2), ('Q9VFP2', 5), ('Q9VRV8', 1), ('Q9VYQ8', 2), ('P20153', 6), ('Q86BY9', 2), ('Q9VL07', 1), ('Q9VYW2', 2), ('P20227', 14), ('P47825', 8), ('P49846', 4), ('P49847', 6), ('P49905', 4), ('P49906', 2), ('P52654', 2), ('Q24325', 3), ('Q27272', 9), ('Q9U5W9', 8), ('Q9VWF2', 9), ('P20232', 2), ('Q9VDQ5', 2), ('Q9VKR1', 1), ('P20241', 2), ('Q94887', 3), ('Q9VN14', 2), ('P20351', 1), ('Q07DP5', 3), ('P20353', 4), ('P26308', 2), ('Q9W2R4', 5), ('Q9W358', 2), ('P20480', 3), ('P92177', 10), ('Q94545', 5), ('Q9VG13', 1), ('P21461', 5), ('Q27934', 2), ('Q95RJ9', 1), ('P21519', 1), ('P21521', 4), ('Q24211', 1), ('Q24212', 1), ('P22700', 1), ('Q8IRY7', 9), ('P22711', 1), ('Q9VMR2', 1), ('Q8IQA2', 1), ('Q9W1I2', 1), ('P22769', 1), ('P22813', 1), ('P23023', 2), ('P28750', 2), ('Q9VEN9', 3), ('Q9VVI2', 3), ('P23226', 1), ('P52304', 3), ('P23257', 6), ('P54623', 10), ('Q9VXU8', 3), ('Q9XYP7', 2), ('Q9XYP8', 2), ('P23573', 1), ('P36872', 1), ('Q24141', 3), ('Q9VB23', 3), ('Q9VPZ7', 1), ('P25008', 3), ('Q7KTX8', 5), ('Q9VT57', 4), ('Q9VW47', 4), ('P49028', 5), ('Q8IP90', 3), ('P25160', 2), ('Q9VGR1', 2), ('Q9W1R3', 2), ('P25172', 1), ('P30052', 8), ('Q24090', 4), ('Q7K012', 3), ('Q8IN94', 5), ('Q9VC36', 4), ('Q9VF03', 9), ('Q9VSH4', 3), ('Q9VYG2', 6), ('Q9W384', 4), ('P25843', 2), ('Q9VPX6', 1), ('Q7JVP4', 5), ('Q8ST83', 5), ('Q9VHA0', 6), ('Q9W1A9', 2), ('Q9W523', 3), ('P26019', 1), ('P26270', 1), ('Q7KLV9', 4), ('P38040', 1), ('P26675', 1), ('P27716', 1), ('Q8SYK5', 2), ('P28465', 1), ('P28466', 1), ('P28518', 1), ('Q8IPH9', 2), ('Q95V55', 2), ('Q9VCC9', 3), ('Q9VW83', 4), ('Q9VZZ9', 2), ('Q9V3S6', 1), ('P29746', 1), ('P29829', 1), ('Q9NFZ3', 1), ('P29843', 1), ('P29993', 1), ('P40791', 1), ('Q26366', 1), ('Q9VU85', 2), ('Q8IMT8', 1), ('Q9VE13', 2), ('P31409', 1), ('P32866', 1), ('P32870', 1), ('Q8IRW8', 2), ('Q94899', 1), ('P35500', 1), ('P40794', 1), ('P45843', 1), ('P46863', 3), ('P48605', 1), ('P52172', 1), ('P54358', 1), ('P54397', 3), ('P83099', 1), ('P91621', 1), ('P91659', 1), ('P98163', 1), ('Q0E8T7', 1), ('Q0E8X8', 1), ('Q0KHU0', 1), ('Q0KHV6', 2), ('Q23976', 1), ('Q24020', 2), ('Q24253', 2), ('Q24498', 2), ('Q27607', 2), ('Q5BI50', 1), ('Q7K0X3', 1), ('Q7K2B0', 1), ('Q7K2I4', 1), ('Q7KMH9', 2), ('Q7KRW8', 1), ('Q7KT77', 1), ('Q7KTW5', 1), ('Q7KTW9', 1), ('Q7YZA2', 1), ('Q86BA1', 1), ('Q86BI3', 2), ('Q8IMP6', 1), ('Q8IN16', 1), ('Q8INH6', 1), ('Q8IPH8', 2), ('Q8IRK0', 1), ('Q8SXR4', 1), ('Q8SZ63', 1), ('Q8T4G5', 1), ('Q94518', 1), ('Q95R60', 1), ('Q9BI20', 12), ('Q9GYV5', 3), ('Q9U1L7', 1), ('Q9U969', 1), ('Q9V3G7', 3), ('Q9V426', 3), ('Q9V719', 3), ('Q9V8R9', 1), ('Q9V9P7', 1), ('Q9VAW1', 1), ('Q9VAX9', 1), ('Q9VB11', 1), ('Q9VB40', 1), ('Q9VBX3', 1), ('Q9VC19', 1), ('Q9VC54', 1), ('Q9VCR2', 1), ('Q9VD07', 1), ('Q9VDU2', 1), ('Q9VF08', 1), ('Q9VF13', 1), ('Q9VFA0', 1), ('Q9VFD3', 1), ('Q9VFE3', 1), ('Q9VFE7', 1), ('Q9VFF3', 3), ('Q9VFH5', 2), ('Q9VFT7', 1), ('Q9VG05', 1), ('Q9VG43', 1), ('Q9VGB6', 1), ('Q9VGP1', 1), ('Q9VGZ3', 1), ('Q9VIK2', 1), ('Q9VIZ3', 1), ('Q9VK42', 1), ('Q9VK58', 2), ('Q9VKM6', 1), ('Q9VKP5', 1), ('Q9VKV1', 1), ('Q9VLL3', 1), ('Q9VLS7', 1), ('Q9VN93', 1), ('Q9VPC0', 2), ('Q9VPH0', 1), ('Q9VPM0', 1), ('Q9VPW5', 1), ('Q9VQ78', 2), ('Q9VR91', 1), ('Q9VS84', 1), ('Q9VSE6', 1), ('Q9VSM6', 1), ('Q9VT95', 1), ('Q9VTQ3', 1), ('Q9VU29', 1), ('Q9VUE8', 1), ('Q9VV61', 1), ('Q9VWG3', 1), ('Q9VWZ3', 1), ('Q9VXV3', 2), ('Q9VY87', 1), ('Q9VYW5', 1), ('Q9W040', 2), ('Q9W083', 1), ('Q9W0E8', 1), ('Q9W0F4', 1), ('Q9W0M4', 1), ('Q9W179', 2), ('Q9W1L2', 1), ('Q9W261', 1), ('Q9W326', 1), ('Q9W394', 1), ('Q9W3L1', 1), ('Q9W3X0', 2), ('Q9W4K8', 1), ('Q9W4P5', 1), ('Q9W560', 1), ('Q9XZ21', 1), ('Q9VY77', 3), ('Q9VHH9', 3), ('P84040', 6), ('P35992', 3), ('Q8IN89', 1), ('P36975', 2), ('Q9XZ10', 3), ('P40301', 1), ('P40417', 2), ('Q9VJD2', 1), ('P40423', 1), ('P83949', 3), ('P40589', 1), ('P40688', 3), ('Q95UN8', 2), ('Q0KI93', 1), ('Q8IQ97', 2), ('Q9VXE5', 1), ('P40796', 1), ('P40797', 5), ('P42207', 2), ('P54359', 3), ('Q7KLG8', 1), ('Q9V4P1', 2), ('P40946', 1), ('Q9VGQ8', 1), ('P41046', 1), ('P42124', 9), ('P41900', 1), ('Q05913', 1), ('Q23993', 1), ('Q9VSD6', 1), ('Q24338', 8), ('Q24459', 6), ('Q9NJG9', 5), ('Q9VKD5', 3), ('Q9VT00', 1), ('P42271', 8), ('Q9VJ57', 2), ('Q9VKU7', 1), ('Q24297', 2), ('Q9V4Q8', 1), ('Q9VI10', 2), ('P46150', 1), ('Q9V9S0', 1), ('P48148', 4), ('Q24120', 1), ('P48159', 1), ('P48461', 1), ('P48994', 4), ('P82295', 1), ('Q27294', 1), ('Q8IP45', 7), ('Q8IRL9', 1), ('Q8SY34', 1), ('Q94883', 1), ('Q95YH7', 1), ('Q9VAD3', 1), ('Q9VB52', 2), ('Q9VB98', 1), ('Q9VBD6', 1), ('Q9VC60', 1), ('Q9VEU1', 1), ('Q9VMG8', 1), ('Q9VVR6', 5), ('Q8IH18', 1), ('Q94548', 1), ('Q9VCH1', 2), ('Q9VR35', 1), ('P48608', 3), ('Q9VAS9', 1), ('P48809', 3), ('Q23985', 1), ('Q9VGH5', 2), ('Q7KHL0', 1), ('P82804', 2), ('Q9V535', 4), ('Q9VEC5', 2), ('P49258', 1), ('P49657', 1), ('Q9VR53', 1), ('Q8IGP5', 2), ('Q9V3I5', 5), ('Q9VYJ5', 1), ('P51023', 1), ('Q7K119', 2), ('Q9VVV9', 1), ('P52295', 1), ('Q23973', 1), ('P53034', 1), ('Q9VX15', 1), ('P54351', 1), ('Q99323', 1), ('Q9VV79', 1), ('Q9VZF4', 2), ('P61851', 1), ('Q02280', 2), ('Q9V3Z6', 2), ('Q9W3D3', 1), ('P82910', 1), ('P83094', 1), ('Q9U6B8', 3), ('Q9TW27', 1), ('Q9VHM3', 1), ('Q9VEN2', 3), ('P91641', 4), ('Q8MSX2', 4), ('Q9VVS4', 3), ('Q9W0P3', 3), ('P91656', 1), ('Q24276', 1), ('Q9V3A7', 2), ('Q9VAJ1', 2), ('P91664', 2), ('Q9W4Q7', 1), ('Q9W4S7', 4), ('Q9V393', 2), ('Q9VDD8', 1), ('Q9VWK5', 2), ('P91891', 1), ('Q8T9L5', 1), ('P98149', 3), ('Q00168', 1), ('Q00174', 1), ('Q00805', 1), ('Q01842', 3), ('Q9VNJ0', 1), ('Q9VNJ5', 1), ('Q9VEZ5', 3), ('Q03720', 1), ('Q04652', 1), ('Q05201', 1), ('Q27350', 1), ('Q8IRG6', 2), ('Q06453', 2), ('Q0E8V7', 1), ('Q7KS72', 1), ('Q06849', 1), ('Q07407', 1), ('Q9VFI0', 1), ('Q9VFG8', 3), ('Q9V3V3', 2), ('Q8MSV2', 1), ('Q9VSR3', 8), ('Q7KRI2', 1), ('Q09024', 4), ('Q7KUD5', 3), ('Q9VT51', 1), ('Q0E8K5', 1), ('Q9XYR0', 1), ('Q7KTX7', 2), ('Q0KI85', 2), ('Q9VG19', 1), ('Q9VG24', 1), ('Q23983', 4), ('Q86P91', 2), ('Q7M440', 1), ('Q9VXN3', 1), ('Q9VRQ2', 2), ('Q24106', 1), ('Q9V3Y8', 3), ('Q9VZU1', 1), ('Q9XZ31', 3), ('Q9NKV0', 1), ('Q24134', 1), ('Q9Y113', 1), ('Q24139', 1), ('Q24145', 1), ('Q9W0A0', 2), ('Q24324', 1), ('Q24214', 1), ('Q9XZL8', 2), ('Q7KPG8', 1), ('Q7KVP9', 2), ('Q7KMS3', 1), ('Q94524', 1), ('Q7PLI0', 1), ('Q24475', 1), ('Q24570', 1), ('Q9VFJ3', 1), ('Q9W3M3', 1), ('Q9XYF4', 2), ('Q24307', 4), ('Q7K4Z4', 4), ('Q9V3B4', 3), ('Q9V3Q4', 1), ('Q9VJ33', 1), ('Q24318', 3), ('Q27368', 2), ('Q24595', 1), ('Q3YMU0', 1), ('Q5EAK6', 1), ('Q7K4X4', 1), ('Q7KTZ4', 1), ('Q8IMC6', 1), ('Q8MRU2', 1), ('Q961C4', 1), ('Q9NDJ2', 2), ('Q9V3M9', 1), ('Q9V9E3', 1), ('Q9VC42', 1), ('Q9VC56', 1), ('Q9VCA8', 2), ('Q9VF02', 1), ('Q9VJB6', 1), ('Q9VK45', 4), ('Q9VKJ1', 1), ('Q9VKJ9', 2), ('Q9VME5', 1), ('Q9VNH2', 1), ('Q9VRG4', 1), ('Q9VSA4', 1), ('Q9VSH1', 1), ('Q9VSK9', 1), ('Q9VTI8', 1), ('Q9VVG4', 1), ('Q9VVP2', 1), ('Q9VW71', 1), ('Q9VX92', 1), ('Q9VZS7', 1), ('Q9W1C5', 1), ('Q9W246', 1), ('Q9W2E1', 1), ('Q9W2H9', 4), ('Q9W2N0', 1), ('Q9W451', 1), ('Q9W484', 1), ('Q9W596', 3), ('X2JGK1', 1), ('Q24323', 3), ('Q9V452', 2), ('Q24454', 1), ('Q9VRN6', 1), ('Q7K180', 1), ('Q95RQ8', 1), ('Q9VHG5', 2), ('Q9VHG6', 2), ('Q9VP57', 4), ('Q9VS55', 4), ('Q9N675', 1), ('Q9VA38', 6), ('Q24537', 1), ('Q9VH76', 1), ('Q9W3M8', 1), ('Q24560', 2), ('Q24562', 1), ('Q94535', 1), ('Q24564', 4), ('Q9VCR6', 3), ('Q9VW15', 2), ('Q9Y0I1', 4), ('Q8INY1', 2), ('Q27268', 1), ('Q9W1F4', 3), ('Q7JQT0', 1), ('Q9V3S3', 3), ('Q9VAC4', 2), ('Q9VJV8', 1), ('Q27889', 1), ('Q27896', 1), ('Q9VEL2', 2), ('Q29QQ9', 1), ('Q9VCU9', 3), ('Q9VHF5', 1), ('Q9VPR7', 1), ('Q9VGU4', 1), ('Q9VU19', 1), ('Q9VUH6', 1), ('Q9VZI2', 3), ('Q4V3F0', 1), ('Q8T603', 4), ('Q4V5A7', 1), ('Q9VCG6', 1), ('Q59DX6', 2), ('Q59DZ4', 3), ('Q59E13', 2), ('Q59E36', 2), ('Q9VZ22', 3), ('Q5LJZ2', 2), ('Q8T390', 1), ('Q5U0X8', 1), ('Q9VFV8', 2), ('Q5U127', 2), ('Q9VKK1', 2), ('Q6AWJ9', 2), ('Q6GKZ1', 1), ('Q9VFK3', 2), ('Q9VCU7', 4), ('Q9VKD7', 3), ('Q9W4W2', 2), ('Q6NQZ7', 1), ('Q9V3Q6', 1), ('Q76NP9', 1), ('Q9W2K2', 3), ('Q7JQT8', 1), ('Q9Y149', 1), ('Q7JRJ9', 1), ('Q9VKN7', 1), ('Q7JUY8', 1), ('Q9VF25', 2), ('Q7JV70', 2), ('Q7JVK6', 1), ('Q9VF77', 1), ('Q7JVL3', 1), ('Q9W062', 1), ('Q86BP6', 1), ('Q9VJY8', 1), ('Q9VRN3', 1), ('Q7JVY2', 1), ('Q7JX41', 1), ('Q9VLT8', 1), ('Q9VUY8', 1), ('Q7JWH5', 1), ('Q9VAQ0', 1), ('Q9V629', 1), ('Q9VIF5', 1), ('Q7JXC4', 1), ('Q9VJR1', 1), ('Q9VU45', 3), ('Q7JZC9', 5), ('Q9V3V7', 6), ('Q9VM45', 4), ('Q9VS01', 6), ('Q9VYX4', 5), ('Q7K3D8', 2), ('Q7K018', 2), ('Q9VKW8', 2), ('Q9VRT7', 2), ('Q7K0S5', 1), ('Q7KN62', 5), ('Q7K0X9', 1), ('Q95083', 1), ('Q9V3P3', 1), ('Q9V5C6', 3), ('Q9XYN7', 1), ('Q9XZJ4', 1), ('Q7K1U0', 2), ('Q7K1Y4', 2), ('Q9V968', 1), ('Q9VTC4', 2), ('Q7K2G1', 1), ('Q9XZ61', 1), ('Q7K2X8', 1), ('Q9VQ89', 1), ('Q7K306', 1), ('Q9VXM1', 1), ('Q7K4B4', 5), ('Q9VAP2', 8), ('Q9VKD6', 7), ('Q9W0G7', 7), ('Q9W2P0', 5), ('Q9W4M8', 5), ('Q9GNK5', 4), ('Q9W2E6', 3), ('Q7K5N4', 1), ('Q9V727', 1), ('Q9VZX1', 1), ('Q7KJ08', 1), ('Q95NU8', 1), ('Q7KK54', 1), ('Q7KLI1', 3), ('Q7KMP8', 2), ('Q9V3Z4', 1), ('Q7KMJ6', 4), ('Q9VCE6', 2), ('Q9VLP7', 3), ('Q9Y091', 4), ('Q9VBP9', 1), ('Q7KNF1', 1), ('Q9V9V7', 1), ('Q7KNF2', 1), ('Q7KUA4', 2), ('Q8ML92', 1), ('Q7KRW1', 1), ('Q9XZ58', 1), ('Q9VJQ5', 6), ('Q7KSE9', 2), ('Q7KSM5', 1), ('Q7KTS2', 2), ('Q8MQJ7', 2), ('Q9VHR6', 3), ('Q9W0P8', 2), ('Q7KVY7', 1), ('Q7PLE9', 1), ('Q9VGH9', 2), ('Q7PLP5', 1), ('Q867Z4', 2), ('Q86B79', 3), ('Q9N2M8', 1), ('Q9W437', 3), ('Q86BE9', 1), ('Q86BG1', 1), ('Q9VBP2', 1), ('Q9VG73', 1), ('Q86S05', 2), ('Q9VFT4', 2), ('Q8I0P1', 2), ('Q8IPA1', 4), ('Q9VCN9', 4), ('Q9VPT4', 4), ('Q9VQB6', 8), ('Q9VVR1', 6), ('Q9VU86', 6), ('Q9VX12', 1), ('Q9XZT7', 1), ('Q8INF6', 1), ('Q8INI8', 1), ('Q8INQ9', 3), ('Q9V400', 1), ('Q9V428', 1), ('Q9VWD0', 1), ('Q9NHX0', 1), ('Q9W579', 1), ('Q9VCN7', 3), ('Q8IPW3', 2), ('Q8IPX7', 1), ('Q8IR55', 1), ('Q9VF82', 1), ('Q8IRJ7', 1), ('Q9VI58', 1), ('Q8IRJ8', 1), ('Q9W1H0', 1), ('Q9VXQ5', 1), ('Q9W334', 1), ('Q8MQW8', 1), ('Q8MSU4', 2), ('Q9V3D6', 2), ('Q9VE51', 2), ('Q8ST61', 1), ('Q9VSY9', 1), ('Q9V460', 2), ('Q8SZT1', 1), ('Q8SWX0', 1), ('Q8SXP8', 1), ('Q8T0Q4', 2), ('Q9VB05', 1), ('Q95RA8', 2), ('Q9VCQ7', 1), ('Q9W5R5', 2), ('Q8T4A9', 1), ('Q8T6B9', 1), ('Q8T8W3', 1), ('Q9VPY3', 1), ('Q9VS59', 2), ('Q9VKQ9', 1), ('Q9VPH8', 1), ('Q9W260', 1), ('Q95TJ9', 1), ('Q960N3', 1), ('Q9VS37', 1), ('Q960X4', 1), ('Q960Z0', 1), ('Q961D1', 1), ('Q9VP22', 1), ('Q961T8', 2), ('Q9VGZ2', 1), ('Q9VK19', 1), ('Q9VKJ4', 2), ('Q9VW53', 2), ('Q9VXL4', 1), ('Q9W1M9', 4), ('Q9BIR7', 1), ('Q9BIS2', 1), ('Q9GYU8', 1), ('Q9W1X4', 2), ('Q9NB71', 1), ('Q9NBW1', 1), ('Q9VFX1', 1), ('Q9NCC3', 4), ('Q9VHP0', 2), ('Q9W5R8', 1), ('Q9NGX3', 1), ('Q9V9C8', 1), ('Q9NHB0', 1), ('Q9VYX7', 1), ('Q9NHD5', 3), ('Q9VFN9', 1), ('Q9VT75', 1), ('Q9VWI2', 1), ('Q9NK54', 1), ('Q9W3Y1', 1), ('Q9TVQ5', 1), ('Q9VSK8', 1), ('Q9VTL1', 2), ('Q9U3V9', 1), ('Q9U6R9', 1), ('Q9V345', 2), ('Q9V4S8', 2), ('Q9VCY3', 2), ('Q9V359', 1), ('Q9VVA7', 1), ('Q9V3C4', 1), ('Q9VV74', 5), ('Q9V3E9', 1), ('Q9V3H0', 2), ('Q9VV73', 3), ('Q9V3I1', 2), ('Q9VLS5', 2), ('Q9W2M0', 1), ('Q9VAA9', 1), ('Q9V3K3', 1), ('Q9VH07', 1), ('Q9VYB1', 1), ('Q9V3X4', 2), ('Q9VAF5', 1), ('Q9V405', 1), ('Q9V439', 1), ('Q9V4D9', 2), ('Q9V4F9', 1), ('Q9V4Z9', 1), ('Q9VQU9', 1), ('Q9V637', 1), ('Q9VWJ6', 1), ('Q9V8K2', 1), ('Q9V8W3', 1), ('Q9V9R2', 1), ('Q9V9W7', 2), ('Q9VA00', 2), ('Q9W4X9', 2), ('Q9VAB8', 2), ('Q9VAC8', 1), ('Q9W0G6', 3), ('Q9W0S8', 3), ('Q9VGD0', 1), ('X2JAU8', 1), ('Q9W215', 2), ('Q9VBW9', 1), ('Q9VYY3', 1), ('Q9VC27', 1), ('Q9VC57', 2), ('Q9VC61', 1), ('Q9VL14', 1), ('Q9VCH5', 1), ('Q9W2E7', 1), ('Q9VCZ8', 1), ('Q9VTE5', 2), ('Q9VT83', 4), ('Q9VDE9', 1), ('Q9VE98', 1), ('Q9VEA6', 1), ('Q9W227', 1), ('Q9VEC3', 1), ('Q9W3D4', 1), ('Q9VHX0', 1), ('Q9VHV8', 1), ('Q9VFS5', 1), ('Q9VFS8', 1), ('Q9XZC3', 1), ('Q9VG58', 1), ('Q9VG98', 2), ('Q9VGE5', 2), ('Q9W5X0', 2), ('Q9VGP6', 1), ('Q9VHB5', 1), ('Q9VHI1', 1), ('Q9VN55', 1), ('Q9VHI4', 3), ('Q9VPR5', 1), ('Q9VRV7', 1), ('Q9W0M7', 1), ('Q9VHP3', 1), ('Q9W592', 1), ('Q9VWQ1', 1), ('Q9VHY6', 1), ('Q9VKR0', 1), ('Q9VI75', 1), ('Q9VQC0', 1), ('Q9VIE7', 1), ('Q9VIF1', 1), ('Q9VIP1', 1), ('Q9VJ14', 1), ('Q9VJ82', 1), ('Q9W450', 2), ('Q9VJI7', 1), ('Q9W328', 2), ('Q9W087', 2), ('Q9VP46', 1), ('Q9W289', 1), ('Q9W3N6', 1), ('Q9VMA7', 2), ('Q9VWQ2', 1), ('Q9VN60', 1), ('Q9VQD4', 1), ('Q9VN77', 1), ('Q9XZ68', 1), ('Q9VTV1', 1), ('Q9W0G1', 1), ('Q9VQF9', 1), ('Q9VVT5', 1), ('Q9VQW7', 2), ('Q9W2P5', 2), ('Q9VS29', 2), ('Q9VS85', 1), ('Q9VVE5', 1), ('Q9W0C3', 1), ('Q9W158', 1), ('Q9VT40', 1), ('Q9XYZ4', 2), ('Q9W4R3', 2), ('Q9W0N6', 1), ('Q9VUL1', 2), ('Q9VVX0', 1), ('Q9W4N9', 1), ('Q9VVJ5', 1), ('Q9XZU7', 1), ('Q9W1R5', 2), ('Q9VWS4', 1), ('Q9W3I9', 1), ('Q9VWX8', 1), ('Q9VXN9', 3), ('Q9VYV3', 1), ('Q9W3R6', 1), ('Q9W252', 1), ('Q9W277', 1), ('Q9W552', 1)]\n"
     ]
    }
   ],
   "source": [
    "print(G.degree())"
   ]
  },
  {
   "cell_type": "code",
   "execution_count": 19,
   "metadata": {
    "ExecuteTime": {
     "end_time": "2022-06-06T10:52:51.454293Z",
     "start_time": "2022-06-06T10:52:51.165410Z"
    }
   },
   "outputs": [
    {
     "data": {
      "text/plain": [
       "<BarContainer object of 119 artists>"
      ]
     },
     "execution_count": 19,
     "metadata": {},
     "output_type": "execute_result"
    },
    {
     "data": {
      "image/png": "[encoded data removed]",
      "text/plain": [
       "<Figure size 432x288 with 1 Axes>"
      ]
     },
     "metadata": {
      "needs_background": "light"
     },
     "output_type": "display_data"
    }
   ],
   "source": [
    "from collections import Counter\n",
    "degree_sequence = [G.degree(n) for n in G.nodes]\n",
    "degree_counts = Counter(degree_sequence)\n",
    "plt.xlabel(\"Degree\", fontsize=20)\n",
    "plt.ylabel(\"Frequency\", fontsize=20)\n",
    "plot_x = list(set(degree_sequence))\n",
    "plot_y = [degree_counts.get(x,0) for x in plot_x]\n",
    "plt.bar(plot_x, plot_y)\n"
   ]
  },
  {
   "cell_type": "code",
   "execution_count": 23,
   "metadata": {
    "ExecuteTime": {
     "end_time": "2022-06-06T10:55:01.917113Z",
     "start_time": "2022-06-06T10:55:01.895172Z"
    },
    "scrolled": true
   },
   "outputs": [
    {
     "name": "stdout",
     "output_type": "stream",
     "text": [
      "Counter({1: 541, 2: 344, 3: 299, 4: 251, 5: 249, 6: 187, 7: 156, 8: 110, 9: 95, 11: 94, 10: 81, 12: 73, 15: 55, 13: 50, 14: 42, 17: 33, 16: 26, 21: 24, 19: 24, 22: 22, 18: 22, 26: 19, 20: 17, 23: 13, 25: 12, 31: 11, 30: 10, 27: 10, 33: 10, 38: 9, 29: 9, 24: 9, 32: 8, 43: 8, 56: 7, 28: 7, 37: 7, 52: 6, 45: 6, 36: 6, 69: 5, 67: 5, 51: 5, 40: 5, 53: 5, 57: 5, 34: 4, 49: 4, 41: 4, 46: 4, 42: 4, 35: 3, 63: 3, 86: 3, 91: 3, 102: 3, 105: 3, 47: 3, 61: 3, 62: 3, 78: 2, 106: 2, 132: 2, 44: 2, 88: 2, 59: 2, 95: 2, 77: 2, 68: 2, 73: 2, 79: 1, 477: 1, 76: 1, 222: 1, 158: 1, 385: 1, 83: 1, 176: 1, 139: 1, 39: 1, 142: 1, 166: 1, 117: 1, 144: 1, 114: 1, 150: 1, 248: 1, 677: 1, 93: 1, 81: 1, 157: 1, 97: 1, 147: 1, 167: 1, 211: 1, 243: 1, 198: 1, 100: 1, 108: 1, 136: 1, 363: 1, 92: 1, 164: 1, 55: 1, 60: 1, 146: 1, 113: 1, 84: 1, 129: 1, 82: 1, 64: 1, 58: 1, 71: 1, 98: 1, 48: 1, 80: 1, 110: 1, 124: 1, 96: 1})\n"
     ]
    }
   ],
   "source": [
    "print(degree_counts)"
   ]
  },
  {
   "cell_type": "code",
   "execution_count": 7,
   "metadata": {
    "ExecuteTime": {
     "end_time": "2022-06-06T09:35:29.769431Z",
     "start_time": "2022-06-06T09:35:29.757031Z"
    }
   },
   "outputs": [],
   "source": [
    "import math\n",
    "def plot_degree_dist(G):\n",
    "    \n",
    "    degrees = G.degree()\n",
    "    degrees = dict(degrees)\n",
    "    values = sorted(set(degrees.values()))\n",
    "   \n",
    "    histo = [list(degrees.values()).count(x) for x in values]\n",
    "    P_k = [x / G.order() for x in histo]\n",
    "   \n",
    "    \n",
    "    plt.figure()\n",
    "    plt.bar(values, P_k)\n",
    "    plt.xlabel(\"k\",fontsize=20)\n",
    "    plt.ylabel(\"p(k)\", fontsize=20)\n",
    "    plt.title(\"Degree Distribution\", fontsize=20)\n",
    "    \n",
    "    plt.show()\n",
    "    plt.figure()\n",
    "    plt.loglog(values, P_k, \"bo\")\n",
    "    plt.xlabel(\"k\", fontsize=20)\n",
    "    plt.ylabel(\"log p(k)\", fontsize=20)\n",
    "    plt.show()\n",
    "\n",
    "    "
   ]
  },
  {
   "cell_type": "code",
   "execution_count": 11,
   "metadata": {},
   "outputs": [
    {
     "data": {
      "image/png": "[encoded data removed]",
      "text/plain": [
       "<Figure size 432x288 with 1 Axes>"
      ]
     },
     "metadata": {
      "needs_background": "light"
     },
     "output_type": "display_data"
    },
    {
     "data": {
      "image/png": "[encoded data removed]",
      "text/plain": [
       "<Figure size 432x288 with 1 Axes>"
      ]
     },
     "metadata": {
      "needs_background": "light"
     },
     "output_type": "display_data"
    }
   ],
   "source": [
    "plot_degree_dist(G)"
   ]
  },
  {
   "cell_type": "code",
   "execution_count": 31,
   "metadata": {
    "ExecuteTime": {
     "end_time": "2022-06-06T11:13:54.908272Z",
     "start_time": "2022-06-06T11:13:54.893276Z"
    }
   },
   "outputs": [],
   "source": [
    "ll=len(order)\n",
    "f=int(ll*0.05)"
   ]
  },
  {
   "cell_type": "code",
   "execution_count": 32,
   "metadata": {
    "ExecuteTime": {
     "end_time": "2022-06-06T11:14:00.346736Z",
     "start_time": "2022-06-06T11:14:00.326791Z"
    }
   },
   "outputs": [
    {
     "data": {
      "text/plain": [
       "155"
      ]
     },
     "execution_count": 32,
     "metadata": {},
     "output_type": "execute_result"
    }
   ],
   "source": [
    "f"
   ]
  },
  {
   "cell_type": "code",
   "execution_count": 45,
   "metadata": {
    "ExecuteTime": {
     "end_time": "2022-06-06T11:22:12.712962Z",
     "start_time": "2022-06-06T11:22:12.697964Z"
    }
   },
   "outputs": [],
   "source": [
    "bb=[]"
   ]
  },
  {
   "cell_type": "code",
   "execution_count": 46,
   "metadata": {
    "ExecuteTime": {
     "end_time": "2022-06-06T11:22:13.539289Z",
     "start_time": "2022-06-06T11:22:13.519344Z"
    }
   },
   "outputs": [],
   "source": [
    "for x in range (len(order)-f,len(order)):\n",
    "    bb.append(order[x][0])"
   ]
  },
  {
   "cell_type": "code",
   "execution_count": 47,
   "metadata": {
    "ExecuteTime": {
     "end_time": "2022-06-06T11:22:14.571864Z",
     "start_time": "2022-06-06T11:22:14.556904Z"
    }
   },
   "outputs": [
    {
     "data": {
      "text/plain": [
       "['P0A968',\n",
       " 'P0AED5',\n",
       " 'P0A9A6',\n",
       " 'P0A9B2',\n",
       " 'P0AD61',\n",
       " 'P0A6Q3',\n",
       " 'P0A847',\n",
       " 'P0A9X9',\n",
       " 'P0AE08',\n",
       " 'P68066',\n",
       " 'P0AA43',\n",
       " 'P0A901',\n",
       " 'P0A8E6',\n",
       " 'P0AFP6',\n",
       " 'P0A8I5',\n",
       " 'P14081',\n",
       " 'P0A7A9',\n",
       " 'P0A9W0',\n",
       " 'P23830',\n",
       " 'P0AFF6',\n",
       " 'P0A8G0',\n",
       " 'P0A7M6',\n",
       " 'P0C018',\n",
       " 'P0A6H5',\n",
       " 'P0AC53',\n",
       " 'P0A6B7',\n",
       " 'P69913',\n",
       " 'P05055',\n",
       " 'P09546',\n",
       " 'P0A9K6',\n",
       " 'P42184',\n",
       " 'P0AES4',\n",
       " 'P0AEM0',\n",
       " 'P0A8M3',\n",
       " 'P08245',\n",
       " 'P36659',\n",
       " 'P0ABU7',\n",
       " 'P77188',\n",
       " 'P0A715',\n",
       " 'P75829',\n",
       " 'P09372',\n",
       " 'P76104',\n",
       " 'P75864',\n",
       " 'P0A6A8',\n",
       " 'P0C054',\n",
       " 'P21513',\n",
       " 'P0A843',\n",
       " 'P0A6W5',\n",
       " 'P0A6M8',\n",
       " 'P28043',\n",
       " 'P0A705',\n",
       " 'P0A972',\n",
       " 'P0A9A9',\n",
       " 'P0ADY3',\n",
       " 'P0A988',\n",
       " 'P0A7E9',\n",
       " 'P0A8E5',\n",
       " 'P0ADK8',\n",
       " 'P0A7J7',\n",
       " 'P0A7L3',\n",
       " 'P0A776',\n",
       " 'P0A8N5',\n",
       " 'P0A7N9',\n",
       " 'P0A6Z3',\n",
       " 'P0A6P9',\n",
       " 'P0A9K3',\n",
       " 'P09373',\n",
       " 'P22523',\n",
       " 'P0AFG0',\n",
       " 'P0AGJ6',\n",
       " 'P06612',\n",
       " 'P21645',\n",
       " 'P0A7Y8',\n",
       " 'P0A707',\n",
       " 'P0AGK4',\n",
       " 'P0A6G7',\n",
       " 'P0AAS7',\n",
       " 'P0AG24',\n",
       " 'P0DP90',\n",
       " 'P0ADY7',\n",
       " 'P15288',\n",
       " 'P67910',\n",
       " 'P0ACF8',\n",
       " 'P0AG30',\n",
       " 'P10443',\n",
       " 'P0A7J3',\n",
       " 'P21499',\n",
       " 'P0AA39',\n",
       " 'P0ABT2',\n",
       " 'P37751',\n",
       " 'Q8VNN2',\n",
       " 'P0ABH9',\n",
       " 'P0A8M6',\n",
       " 'P60624',\n",
       " 'P02918',\n",
       " 'P0A9M0',\n",
       " 'P02358',\n",
       " 'P0A6X3',\n",
       " 'P0A9X4',\n",
       " 'P63284',\n",
       " 'P06959',\n",
       " 'P0ACF4',\n",
       " 'P0AC41',\n",
       " 'P62399',\n",
       " 'P39177',\n",
       " 'P0A7R1',\n",
       " 'P0A9P0',\n",
       " 'P0A9Y6',\n",
       " 'P0A7T3',\n",
       " 'P13035',\n",
       " 'P0AG55',\n",
       " 'P0AGJ5',\n",
       " 'P10408',\n",
       " 'P02413',\n",
       " 'P36979',\n",
       " 'P0A7Z4',\n",
       " 'P37765',\n",
       " 'P0A8V2',\n",
       " 'P0A9P6',\n",
       " 'P0A850',\n",
       " 'P0A6F9',\n",
       " 'P0A7U7',\n",
       " 'P0AG48',\n",
       " 'P0AFG8',\n",
       " 'P0AG67',\n",
       " 'P0ADZ0',\n",
       " 'P08622',\n",
       " 'P0ACF0',\n",
       " 'P0A8T7',\n",
       " 'P0AG59',\n",
       " 'P0A7R5',\n",
       " 'P61175',\n",
       " 'P0A7S9',\n",
       " 'P0A9K9',\n",
       " 'P0CE48',\n",
       " 'P0A7K6',\n",
       " 'P0AA10',\n",
       " 'P0AG44',\n",
       " 'P0A7K2',\n",
       " 'P60438',\n",
       " 'P02359',\n",
       " 'P0A7X3',\n",
       " 'P0A717',\n",
       " 'P0A7L0',\n",
       " 'P0A7M2',\n",
       " 'P0CE47',\n",
       " 'P0A7W1',\n",
       " 'P0A7V0',\n",
       " 'P0A7V3',\n",
       " 'P0A7V8',\n",
       " 'P60723',\n",
       " 'P0A6Y8',\n",
       " 'P60422',\n",
       " 'P18843',\n",
       " 'P0A6F5']"
      ]
     },
     "execution_count": 47,
     "metadata": {},
     "output_type": "execute_result"
    }
   ],
   "source": [
    "bb"
   ]
  },
  {
   "cell_type": "code",
   "execution_count": 48,
   "metadata": {
    "ExecuteTime": {
     "end_time": "2022-06-06T11:24:25.711764Z",
     "start_time": "2022-06-06T11:24:25.693812Z"
    }
   },
   "outputs": [
    {
     "data": {
      "text/plain": [
       "155"
      ]
     },
     "execution_count": 48,
     "metadata": {},
     "output_type": "execute_result"
    }
   ],
   "source": [
    "len(bb)"
   ]
  },
  {
   "cell_type": "code",
   "execution_count": null,
   "metadata": {},
   "outputs": [],
   "source": []
  }
 ],
 "metadata": {
  "kernelspec": {
   "display_name": "Python 3 (ipykernel)",
   "language": "python",
   "name": "python3"
  },
  "language_info": {
   "codemirror_mode": {
    "name": "ipython",
    "version": 3
   },
   "file_extension": ".py",
   "mimetype": "text/x-python",
   "name": "python",
   "nbconvert_exporter": "python",
   "pygments_lexer": "ipython3",
   "version": "3.9.12"
  },
  "varInspector": {
   "cols": {
    "lenName": 16,
    "lenType": 16,
    "lenVar": 40
   },
   "kernels_config": {
    "python": {
     "delete_cmd_postfix": "",
     "delete_cmd_prefix": "del ",
     "library": "var_list.py",
     "varRefreshCmd": "print(var_dic_list())"
    },
    "r": {
     "delete_cmd_postfix": ") ",
     "delete_cmd_prefix": "rm(",
     "library": "var_list.r",
     "varRefreshCmd": "cat(var_dic_list()) "
    }
   },
   "types_to_exclude": [
    "module",
    "function",
    "builtin_function_or_method",
    "instance",
    "_Feature"
   ],
   "window_display": false
  }
 },
 "nbformat": 4,
 "nbformat_minor": 4
}
